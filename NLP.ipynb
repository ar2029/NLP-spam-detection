{
 "cells": [
  {
   "cell_type": "code",
   "execution_count": 112,
   "metadata": {},
   "outputs": [],
   "source": [
    "import nltk"
   ]
  },
  {
   "cell_type": "code",
   "execution_count": 113,
   "metadata": {},
   "outputs": [
    {
     "output_type": "execute_result",
     "data": {
      "text/plain": "ot sure the  thing will be resolved, tho. Anyway. Have a fab hols\\nham\\tGarbage bags, eggs, jam, bread, hannaford wheat chex\\nham\\tNo. It\\'s not pride. I\\'m almost  &lt;#&gt;  years old and shouldn\\'t be takin money from my kid. You\\'re not supposed to have to deal with this stuff. This is grownup stuff--why i don\\'t tell you.\\nham\\tSounds better than my evening im just doing my costume. Im not sure what time i finish tomorrow but i will txt you at the end.\\nham\\tMy birthday is on feb  &lt;#&gt;  da. .\\nham\\tSo when do you wanna gym?\\nham\\tYou\\'d like that wouldn\\'t you? Jerk!\\nham\\tAre u awake? Is there snow there?\\nham\\tAnd of course you should make a stink!\\nspam\\tu r subscribed 2 TEXTCOMP 250 wkly comp. 1st wk?s free question follows, subsequent wks charged@150p/msg.2 unsubscribe txt STOP 2 84128,custcare 08712405020\\nham\\tNo go. No openings for that room \\'til after thanksgiving without an upcharge.\\nham\\tWhen you guys planning on coming over?\\nham\\tWat Ã¼ doing now?\\nham\\tMy Parents, My Kidz, My Friends n My Colleagues. All screaming.. SURPRISE !! and I was waiting on the sofa.. ... ..... \\' NAKED...!\\nham\\tNo sir. That\\'s why i had an 8-hr trip on the bus last week. Have another audition next wednesday but i think i might drive this time.\\nham\\tDo I? I thought I put it back in the box\\nham\\tI\\'m home...\\nham\\tNo one interested. May be some business plan.\\nham\\tYup it\\'s at paragon... I havent decided whether 2 cut yet... Hee...\\nham\\tGood morning princess! Have a great day!\\nham\\tGuai... Ãœ shd haf seen him when he\\'s naughty... Ãœ so free today? Can go jogging...\\nham\\tAiyo cos i sms Ã¼ then Ã¼ neva reply so i wait 4 Ã¼ to reply lar. I tot Ã¼ havent finish ur lab wat.\\nham\\tLiving is very simple.. Loving is also simple.. Laughing is too simple.. Winning is tooo simple.. But, Being \\'SIMPLE\\' is very difficult...;-) :-)\\nham\\tTell me something. Thats okay.\\nham\\tOk\\nham\\tHmm. Shall i bring a bottle of wine to keep us amused? Just joking! I\\'ll still bring a bottle. Red or white? See you tomorrow\\nham\\tThis is ur face test ( 1 2 3 4 5 6 7 8 9  &lt;#&gt;  ) select any number i will tell ur face astrology.... am waiting. quick reply...\\nham\\tHey, iouri gave me your number, I\\'m wylie, ryan\\'s friend\\nham\\tYep get with the program. You\\'re slacking.\\nham\\tI\\'m in inside office..still filling forms.don know when they leave me.\\nham\\tI think your mentor is , but not 100 percent sure.\\nspam\\tCall 09095350301 and send our girls into erotic ecstacy. Just 60p/min. To stop texts call 08712460324 (nat rate)\\nspam\\tCamera - You are awarded a SiPix Digital Camera! call 09061221066 fromm landline. Delivery within 28 days.\\nspam\\tA Â£400 XMAS REWARD IS WAITING FOR YOU! Our computer has randomly picked you from our loyal mobile customers to receive a Â£400 reward. Just call 09066380611\\nham\\tJust trying to figure out when I\\'m suppose to see a couple different people this week. We said we\\'d get together but I didn\\'t set dates\\nspam\\tIMPORTANT MESSAGE. This is a final contact attempt. You have important messages waiting out our customer claims dept. Expires 13/4/04. Call 08717507382 NOW!\\nham\\tHi mom we might be back later than  &lt;#&gt; \\nspam\\tdating:i have had two of these. Only started after i sent a text to talk sport radio last week. Any connection do you think or coincidence?\\nham\\tLol, oh you got a friend for the dog ?\\nham\\tOk., is any problem to u frm him? Wats matter?\\nham\\tK I\\'ll head out in a few mins, see you there\\nham\\tDo u konw waht is rael FRIENDSHIP Im gving yuo an exmpel: Jsut ese tihs msg.. Evrey splleing of tihs msg is wrnog.. Bt sitll yuo can raed it wihtuot ayn mitsake.. GOODNIGHT &amp; HAVE A NICE SLEEP..SWEET DREAMS..\\nham\\tI cant pick the phone right now. Pls send a message\\nham\\tI don\\'t want you to leave. But i\\'m barely doing what i can to stay sane. fighting with you constantly isn\\'t helping.\\nspam\\tThe current leading bid is 151. To pause this auction send OUT. Customer Care: 08718726270\\nspam\\tFree entry to the gr8prizes wkly comp 4 a chance to win the latest Nokia 8800, PSP or Â£250 cash every wk.TXT GREAT to 80878 http//www.gr8prizes.com 08715705022\\nham\\tSomebody set up a website where you can play hold em using eve online spacebucks\\nham\\tIts sunny in california. The weather\\'s just cool\\nspam\\tYou have 1 new message. Call 0207-083-6089\\nham\\tI can make it up there, squeezed  &lt;#&gt;  bucks out of my dad\\nham\\tGood day to You too.Pray for me.Remove the teeth as its painful maintaining other stuff.\\nham\\tHow are you babes. Hope your doing ok. I had a shit nights sleep. I fell asleep at 5.IÂ’m knackered and iÂ’m dreading work tonight. What are thou upto tonight. X\\nham\\tHow do friends help us in problems? They give the most stupid suggestion that Lands us into another problem and helps us forgt the previous problem\\nham\\tI\\'m at work. Please call\\nham\\tI will be gentle baby! Soon you will be taking all  &lt;#&gt;  inches deep inside your tight pussy...\\nham\\tNOT MUCH NO FIGHTS. IT WAS A GOOD NITE!!\\nham\\tOk.ok ok..then..whats ur todays plan\\nham\\tNt joking seriously i told\\nham\\tWatching ajith film ah?\\nham\\tOoooooh I forgot to tell u I can get on yoville on my phone\\nham\\tAll done, all handed in. Don\\'t know if mega shop in asda counts as celebration but thats what i\\'m doing!\\nham\\tI dont know exactly could you ask chechi.\\nham\\tDunno lei shd b driving lor cos i go sch 1 hr oni.\\nham\\tAs in i want custom officer discount oh.\\nham\\tThat\\'s necessarily respectful\\nham\\tHi. Hope you had a good day. Have a better night.\\nham\\tAnd he\\'s apparently bffs with carly quick now\\nham\\tHARD BUT TRUE: How much you show &amp;  express your love to someone....that much it will hurt when they leave you or you get seperated...!éˆ¥â”¾??ã€¨ud evening...\\nham\\tBabes I think I got ur brolly I left it in English wil bring it in 2mrw 4 u luv Franxx\\nham\\tHi babe its me thanks for coming even though it didnt go that well!i just wanted my bed! Hope to see you soon love and kisses xxx\\nham\\tSo gd got free ice cream... I oso wan...\\nham\\tPls give her prometazine syrup. 5mls then  &lt;#&gt; mins later feed.\\nham\\tSo how many days since then?\\nham\\tDear are you angry i was busy dear\\nham\\tYup he msg me: is tat yijue? Then i tot it\\'s my group mate cos we meeting today mah... I\\'m askin if Ã¼ leaving earlier or wat mah cos mayb Ã¼ haf to walk v far...\\nham\\t... Are you in the pub?\\nham\\tThere is a first time for everything :)\\nham\\tDaddy, shu shu is looking 4 u... U wan me 2 tell him u\\'re not in singapore or wat?\\nham\\tI ask if u meeting da ge tmr nite...\\nham\\tGr8. So how do you handle the victoria island traffic. Plus when\\'s the album due\\nham\\tNite nite pocay wocay luv u more than n e thing 4eva I promise ring u 2morrowxxxx\\nham\\tEast coast\\nham\\tYou should get more chicken broth if you want ramen unless there\\'s some I don\\'t know about\\nham\\tMy slave! I want you to take 2 or 3 pictures of yourself today in bright light on your cell phone! Bright light!\\nham\\tNope. I just forgot. Will show next week\\nham\\tSo how are you really. What are you up to. How\\'s the masters. And so on.\\nham\\tI\\'m at bruce &amp; fowler now but I\\'m in my mom\\'s car so I can\\'t park (long story)\\nham\\tI dont know oh. Hopefully this month.\\nham\\tHi elaine, is today\\'s meeting confirmed?\\nham\\tOk k..sry i knw 2 siva..tats y i askd..\\nham\\tSorry, I\\'ll call later\\nham\\tU horrible gal... U knew dat i was going out wif him yest n u still come n ask me...\\nham\\tOtherwise had part time job na-tuition..\\nham\\tOh yeah! And my diet just flew out the window\\nspam\\tSanta Calling! Would your little ones like a call from Santa Xmas eve? Call 09058094583 to book your time.\\nham\\tYou didnt complete your gist oh.\\nham\\tEr yeah, i will b there at 15:26, sorry! Just tell me which pub/cafe to sit in and come wen u can\\nham\\tIf you can make it any time tonight or whenever you can it\\'s cool, just text me whenever you\\'re around\\nham\\tIf I was I wasn\\'t paying attention\\nham\\tThanx a lot 4 ur help!\\nham\\tYou\\'re gonna have to be way more specific than that\\nham\\tJesus armand really is trying to tell everybody he can find\\nham\\tI\\'m wif him now buying tix lar...\\nham\\tMode men or have you left.\\nham\\tAm slow in using biola\\'s fne\\nham\\t\"What are youdoing later? Sar xxx\"\\nham\\tHey i\\'ve booked the 2 lessons on sun liao...\\nham\\tThank you. do you generally date the brothas?\\nham\\tBy the way, make sure u get train to worc foregate street not shrub hill. Have fun night x\\nham\\tI thought i\\'d get him a watch, just cos thats the kind of thing u get4an18th. And he loves so much!\\nspam\\tYou have won a guaranteed 32000 award or maybe even Â£1000 cash to claim ur award call free on 0800 ..... (18+). Its a legitimat efreefone number wat do u think???\\nham\\tGood morning. At the repair shop--the ONLY reason i\\'m up at this hour.\\nham\\tAnd that\\'s fine, I got enough bud to last most of the night at least\\nham\\tI am back. Good journey! Let me know if you need any of the receipts. Shall i tell you like the pendent?\\nham\\tSo that takes away some money worries\\nham\\taight we can pick some up, you open before tonight?\\nspam\\tLatest News! Police station toilet stolen, cops have nothing to go on!\\nham\\tSac needs to carry on:)\\nham\\tJust sing HU. I think its also important to find someone female that know the place well preferably a citizen that is also smart to help you navigate through. Even things like choosing a phone plan require guidance. When in doubt ask especially girls.\\nham\\tWhat???? Hello wats talks email address?\\nham\\tExcept theres a chick with huge boobs.\\nham\\tIm just wondering what your doing right now?\\nham\\tWishing you a beautiful day. Each moment revealing even more things to keep you smiling. Do enjoy it.\\nspam\\t\"For the most sparkling shopping breaks from 45 per person; call 0121 2025050 or visit www.shortbreaks.org.uk\"\\nham\\tArun can u transfr me d amt\\nham\\tSorry, I\\'ll call later\\nham\\tIf you hear a loud scream in about &lt;#&gt; minutes its cause my Gyno will be shoving things up me that don\\'t belong :/\\nspam\\tDecember only! Had your mobile 11mths+? You are entitled to update to the latest colour camera mobile for Free! Call The Mobile Update Co FREE on 08002986906\\nham\\tOk i thk i got it. Then u wan me 2 come now or wat?\\nspam\\tTxt: CALL to No: 86888 & claim your reward of 3 hours talk time to use from your phone now! Subscribe6GBP/mnth inc 3hrs 16 stop?txtStop www.gamb.tv\\nham\\tU GOIN OUT 2NITE?\\nham\\tI will treasure every moment we spend together...\\nham\\tShall I bring us a bottle of wine to keep us amused? Only joking! Iâ€˜ll bring one anyway\\nspam\\thttp//tms. widelive.com/index. wml?id=820554ad0a1705572711&first=trueÂ¡C C RingtoneÂ¡\\nspam\\tGet your garden ready for summer with a FREE selection of summer bulbs and seeds worth Â£33:50 only with The Scotsman this Saturday. To stop go2 notxt.co.uk\\nspam\\tURGENT! Last weekend\\'s draw shows that you have won Â£1000 cash or a Spanish holiday! CALL NOW 09050000332 to claim. T&C: RSTM, SW7 3SS. 150ppm\\nham\\tOk lor.\\nham\\tI thought slide is enough.\\nham\\tYup\\nham\\tWell obviously not because all the people in my cool college life went home ;_;\\nham\\tOk lor Ã¼ reaching then message me.\\nham\\tWhere\\'s mummy\\'s boy ? Is he being good or bad ? Is he being positive or negative ? Why is mummy being made to wait? Hmmmm?\\nham\\tDhoni have luck to win some big title.so we will win:)\\nham\\tYes princess! I want to please you every night. Your wish is my command...\\nham\\tWhat Today-sunday..sunday is holiday..so no work..\\nham\\tNo probably  &lt;#&gt; %.\\nham\\tReally do hope the work doesnt get stressful. Have a gr8 day.\\nham\\tHave you seen who\\'s back at Holby?!\\nham\\tShall call now dear having food\\nspam\\tURGENT We are trying to contact you Last weekends draw shows u have won a Â£1000 prize GUARANTEED Call 09064017295 Claim code K52 Valid 12hrs 150p pm\\nham\\tSo li hai... Me bored now da lecturer repeating last weeks stuff waste time... \\nham\\t, ,  and  picking them up from various points | going 2 yeovil | and they will do the motor project 4 3 hours | and then u take them home. || 12 2 5.30 max. || Very easy\\nham\\tAlso fuck you and your family for going to rhode island or wherever the fuck and leaving me all alone the week I have a new bong &gt;:(\\nham\\tOfcourse I also upload some songs\\nspam\\t2p per min to call Germany 08448350055 from your BT line. Just 2p per min. Check PlanetTalkInstant.com for info & T\\'s & C\\'s. Text stop to opt out\\nham\\tK. I will sent it again\\nham\\tOh thanks a lot..i already bought 2 eggs ..\\nham\\tK. I will sent it again\\nham\\tU studying in sch or going home? Anyway i\\'ll b going 2 sch later.\\nspam\\tMarvel Mobile Play the official Ultimate Spider-man game (Â£4.50) on ur mobile right now. Text SPIDER to 83338 for the game & we ll send u a FREE 8Ball wallpaper\\nham\\tI think if he rule tamilnadu..then its very tough for our people.\\nham\\tCool, we shall go and see, have to go to tip anyway. Are you at home, got something to drop in later? So lets go to town tonight! Maybe mum can take us in.\\nham\\tGood afternoon, my love ... How goes your day ? How did you sleep ? I hope your well, my boytoy ... I think of you ...\\nham\\tYes... I trust u to buy new stuff ASAP so I can try it out\\nspam\\tSMS SERVICES. for your inclusive text credits, pls goto www.comuk.net login= 3qxj9 unsubscribe with STOP, no extra charge. help 08702840625.COMUK. 220-CM2 9AE\\nham\\tWhy did I wake up on my own &gt;:(\\nham\\tNow get step 2 outta the way. Congrats again.\\nham\\tLove has one law; Make happy the person you love. In the same way friendship has one law; Never make ur friend feel alone until you are alive.... Gud night\\nspam\\tPRIVATE! Your 2003 Account Statement for 07808247860 shows 800 un-redeemed S. I. M. points. Call 08719899229 Identifier Code: 40411 Expires 06/11/04\\nham\\tApo all other are mokka players only\\nham\\tPerhaps * is much easy give your account identification, so i will tomorrow at UNI\\nham\\tWait . I will msg after  &lt;#&gt;  min.\\nham\\tWhat i told before i tell. Stupid hear after i wont tell anything to you. You dad called to my brother and spoken. Not with me.\\nham\\tGod\\'s love has no limit. God\\'s grace has no measure. God\\'s power has no boundaries. May u have God\\'s endless blessings always in ur life...!! Gud ni8\\nham\\tI want to be inside you every night...\\nham\\tMachan you go to gym tomorrow,  i wil come late goodnight.\\nham\\tLol they were mad at first but then they woke up and gave in.\\nham\\tI went to project centre\\nham\\tItâ€˜s reassuring, in this crazy world.\\nham\\tJust making dinner, you ?\\nham\\tYes. Please leave at  &lt;#&gt; . So that at  &lt;#&gt;  we can leave\\nham\\tOh... Okie lor...We go on sat... \\nham\\tYou are a great role model. You are giving so much and i really wish each day for a miracle but God as a reason for everything and i must say i wish i knew why but i dont. I\\'ve looked up to you since i was young and i still do. Have a great day.\\nham\\tYa, i\\'m referin to mei\\'s ex wat... No ah, waitin 4 u to treat, somebody shld b rich liao...So gd, den u dun have to work frm tmr onwards...\\nham\\tMiles and smiles r made frm same letters but do u know d difference..? smile on ur face keeps me happy even though I am miles away from u.. :-)keep smiling.. Good nyt\\nham\\tBy the way, i\\'ve put a skip right outside the front of the house so you can see which house it is. Just pull up before it.\\nham\\tCan you pls send me that company name. In saibaba colany\\nham\\tNo. I dont want to hear anything\\nham\\tYou are a big chic. Common. Declare\\nham\\tThats cool. I want to please you...\\nham\\tGoing to join tomorrow.\\nspam\\tYou are awarded a SiPix Digital Camera! call 09061221061 from landline. Delivery within 28days. T Cs Box177. M221BP. 2yr warranty. 150ppm. 16 . p pÂ£3.99\\nham\\tI want to tell you how bad I feel that basically the only times I text you lately are when I need drugs\\nspam\\tPRIVATE! Your 2003 Account Statement for shows 800 un-redeemed S.I.M. points. Call 08718738001 Identifier Code: 49557 Expires 26/11/04\\nham\\tTotal disappointment, when I texted you was the craziest shit got :(\\nham\\tIts just the effect of irritation. Just ignore it\\nham\\tWhat about this one then.\\nham\\tI think that tantrum\\'s finished so yeah I\\'ll be by at some point\\nham\\tCompliments to you. Was away from the system. How your side.\\nham\\thappened here while you were adventuring\\nham\\tHey chief, can you give me a bell when you get this. Need to talk to you about this royal visit on the 1st june. \\nham\\tOk which your another number\\nham\\tI know you are thinkin malaria. But relax, children cant handle malaria. She would have been worse and its gastroenteritis. If she takes enough to replace her loss her temp will reduce. And if you give her malaria meds now she will just vomit. Its a self limiting illness she has which means in a few days it will completely stop\\nham\\tAiyah ok wat as long as got improve can already wat...\\nspam\\tWant explicit SEX in 30 secs? Ring 02073162414 now! Costs 20p/min Gsex POBOX 2667 WC1N 3XX\\nham\\tI can\\'t believe how attached I am to seeing you every day. I know you will do the best you can to get to me babe. I will go to teach my class at your midnight\\nham\\tJust sleeping..and surfing\\nspam\\tASKED 3MOBILE IF 0870 CHATLINES INCLU IN FREE MINS. INDIA CUST SERVs SED YES. L8ER GOT MEGA BILL. 3 DONT GIV A SHIT. BAILIFF DUE IN DAYS. I O Â£250 3 WANT Â£800\\nham\\tYeah it\\'s jus rite...\\nham\\tArmand says get your ass over to epsilon\\nham\\tU still havent got urself a jacket ah?\\nham\\tI\\'m taking derek &amp; taylor to walmart, if I\\'m not back by the time you\\'re done just leave the mouse on my desk and I\\'ll text you when priscilla\\'s ready\\nham\\tHi its in durban are you still on this number\\nham\\tIc. There are a lotta childporn cars then.\\nspam\\tHad your contract mobile 11 Mnths? Latest Motorola, Nokia etc. all FREE! Double Mins & Text on Orange tariffs. TEXT YES for callback, no to remove from records.\\nham\\tNo, I was trying it all weekend ;V\\nham\\tYou know, wot people wear. T shirts, jumpers, hat, belt, is all we know. We r at Cribbs\\nham\\tCool, what time you think you can get here?\\nham\\tWen did you get so spiritual and deep. That\\'s great\\nham\\tHave a safe trip to Nigeria. Wish you happiness and very soon company to share moments with\\nham\\tHahaha..use your brain dear\\nham\\tWell keep in mind I\\'ve only got enough gas for one more round trip barring a sudden influx of cash\\nham\\tYeh. Indians was nice. Tho it did kane me off a bit he he. We shud go out 4 a drink sometime soon. Mite hav 2 go 2 da works 4 a laugh soon. Love Pete x x\\nham\\tYes i have. So that\\'s why u texted. Pshew...missing you so much\\nham\\tNo. I meant the calculation is the same. That  &lt;#&gt; units at  &lt;#&gt; . This school is really expensive. Have you started practicing your accent. Because its important. And have you decided if you are doing 4years of dental school or if you\\'ll just do the nmde exam.\\nham\\tSorry, I\\'ll call later\\nham\\tif you aren\\'t here in the next  &lt;#&gt;  hours imma flip my shit\\nham\\tAnything lor. Juz both of us lor.\\nham\\tGet me out of this dump heap. My mom decided to come to lowes. BORING.\\nham\\tOk lor... Sony ericsson salesman... I ask shuhui then she say quite gd 2 use so i considering...\\nham\\tArd 6 like dat lor.\\nham\\tWhy don\\'t you wait \\'til at least wednesday to see if you get your .\\nham\\tHuh y lei...\\nspam\\tREMINDER FROM O2: To get 2.50 pounds free call credit and details of great offers pls reply 2 this text with your valid name, house no and postcode\\nspam\\tThis is the 2nd time we have tried 2 contact u. U have won the Â£750 Pound prize. 2 claim is easy, call 087187272008 NOW1! Only 10p per minute. BT-national-rate.\\nham\\tWill Ã¼ b going to esplanade fr home?\\nham\\tPity, * was in mood for that. So...any other suggestions?\\nham\\tThe guy did some bitching but I acted like i\\'d be interested in buying something else next week and he gave it to us for free\\nham\\tRofl. Its true to its name\\n'"
     },
     "metadata": {},
     "execution_count": 113
    }
   ],
   "source": [
    "rawdata = open('C:\\\\Users\\\\Prasoon Garg\\\\Desktop\\\\sam.tsv').read()\n",
    "rawdata"
   ]
  },
  {
   "cell_type": "code",
   "execution_count": 114,
   "metadata": {},
   "outputs": [
    {
     "output_type": "execute_result",
     "data": {
      "text/plain": ".',\n 'ham',\n 'Hey you told your name to gautham ah?',\n 'ham',\n 'Haf u found him? I feel so stupid da v cam was working.',\n 'ham',\n 'Oops. 4 got that bit.',\n 'ham',\n 'Are you this much buzy',\n 'ham',\n 'I accidentally deleted the message. Resend please.',\n 'spam',\n \"T-Mobile customer you may now claim your FREE CAMERA PHONE upgrade & a pay & go sim card for your loyalty. Call on 0845 021 3680.Offer ends 28thFeb.T&C's apply\",\n 'ham',\n \"Unless it's a situation where YOU GO GURL would be more appropriate\",\n 'ham',\n 'Hurt me... Tease me... Make me cry... But in the end of my life when i die plz keep one rose on my grave and say STUPID I MISS U.. HAVE A NICE DAY BSLVYL',\n 'ham',\n 'I cant pick the phone right now. Pls send a message',\n 'ham',\n \"Need a coffee run tomo?Can't believe it's that time of week already\",\n 'ham',\n 'Awesome, I remember the last time we got somebody high for the first time with diesel :V',\n 'ham',\n 'Shit that is really shocking and scary, cant imagine for a second. Def up for night out. Do u think there is somewhere i could crash for night, save on taxi?',\n 'ham',\n 'Oh and by the way you do have more food in your fridge! Want to go out for a meal tonight? ',\n 'ham',\n 'He is a womdarfull actor',\n 'spam',\n 'SMS. ac Blind Date 4U!: Rodds1 is 21/m from Aberdeen, United Kingdom. Check Him out http://img. sms. ac/W/icmb3cktz8r7!-4 no Blind Dates send HIDE',\n 'ham',\n 'Yup... From what i remb... I think should be can book... ',\n 'ham',\n 'Jos ask if u wana meet up?',\n 'ham',\n \"Lol yes. Our friendship is hanging on a thread cause u won't buy stuff.\",\n 'spam',\n 'TheMob> Check out our newest selection of content, Games, Tones, Gossip, babes and sport, Keep your mobile fit and funky text WAP to 82468',\n 'ham',\n \"Where are the garage keys? They aren't on the bookshelf\",\n 'ham',\n 'Today is ACCEPT DAY..U Accept me as? Brother Sister Lover Dear1 Best1 Clos1 Lvblefrnd Jstfrnd Cutefrnd Lifpartnr Belovd Swtheart Bstfrnd No rply means enemy',\n 'spam',\n 'Think ur smart ? Win Â£200 this week in our weekly quiz, text PLAY to 85222 now!T&Cs WinnersClub PO BOX 84, M26 3UZ. 16+. GBP1.50/week',\n 'ham',\n \"He says he'll give me a call when his friend's got the money but that he's definitely buying before the end of the week\",\n 'ham',\n 'Hi the way I was with u 2day, is the normal way&this is the real me. UR unique&I hope I know u 4 the rest of mylife. Hope u find wot was lost.',\n 'ham',\n 'You made my day. Do have a great day too.',\n 'ham',\n 'K.k:)advance happy pongal.',\n 'ham',\n 'Hmmm... Guess we can go 4 kb n power yoga... Haha, dunno we can tahan power yoga anot... Thk got lo oso, forgot liao...',\n 'ham',\n \"Not really dude, have no friends i'm afraid :(\",\n 'spam',\n 'December only! Had your mobile 11mths+? You are entitled to update to the latest colour camera mobile for Free! Call The Mobile Update Co FREE on 08002986906',\n 'ham',\n 'Coffee cake, i guess...',\n 'ham',\n 'Merry Christmas to you too babe, i love ya *kisses*',\n 'ham',\n 'Hey... Why dont we just go watch x men and have lunch... Haha ',\n 'ham',\n 'cud u tell ppl im gona b a bit l8 cos 2 buses hav gon past cos they were full & im still waitin 4 1. Pete x',\n 'ham',\n \"That would be great. We'll be at the Guild. Could meet on Bristol road or somewhere - will get in touch over weekend. Our plans take flight! Have a good week\",\n 'ham',\n 'No problem. How are you doing?',\n 'ham',\n 'No calls..messages..missed calls',\n 'ham',\n 'Hi da:)how is the todays class?',\n 'ham',\n \"I'd say that's a good sign but, well, you know my track record at reading women\",\n 'ham',\n \"Cool, text me when you're parked\",\n 'ham',\n \"I'm reading the text i just sent you. Its meant to be a joke. So read it in that light\",\n 'ham',\n 'K.k:)apo k.good movie.',\n 'ham',\n 'Maybe i could get book out tomo then return it immediately ..? Or something.',\n 'spam',\n 'Call Germany for only 1 pence per minute! Call from a fixed line via access number 0844 861 85 85. No prepayment. Direct access!',\n 'ham',\n \"Any chance you might have had with me evaporated as soon as you violated my privacy by stealing my phone number from your employer's paperwork. Not cool at all. Please do not contact me again or I will report you to your supervisor.\",\n 'spam',\n 'Valentines Day Special! Win over Â£1000 in our quiz and take your partner on the trip of a lifetime! Send GO to 83600 now. 150p/msg rcvd. CustCare:08718720201.',\n 'ham',\n 'Ta-Daaaaa! I am home babe, are you still up ?',\n 'ham',\n 'Cool. So how come you havent been wined and dined before?',\n 'ham',\n 'Just sleeping..and surfing',\n 'ham',\n \"Sorry, I'll call later\",\n 'ham',\n 'U calling me right? Call my hand phone...',\n 'ham',\n \"Ok that's great thanx a lot.\",\n 'ham',\n 'I take it the post has come then! You must have 1000s of texts now! Happy reading. My one from wiv hello caroline at the end is my favourite. Bless him',\n 'ham',\n 'Where u been hiding stranger?',\n 'ham',\n 'Am not interested to do like that.',\n 'ham',\n 'My sister cleared two round in birla soft yesterday.',\n 'ham',\n 'Gudnite....tc...practice going on',\n 'ham',\n 'Dis is yijue. I jus saw ur mail. In case huiming havent sent u my num. Dis is my num.',\n 'ham',\n 'One small prestige problem now.',\n 'spam',\n 'Fancy a shag? I do.Interested? sextextuk.com txt XXUK SUZY to 69876. Txts cost 1.50 per msg. TnCs on website. X',\n 'ham',\n 'Just checking in on you. Really do miss seeing Jeremiah. Do have a great month',\n 'ham',\n \"Nah can't help you there, I've never had an iphone\",\n 'ham',\n \"If you're not in my car in an hour and a half I'm going apeshit\",\n 'ham',\n \"TODAY is Sorry day.! If ever i was angry with you, if ever i misbehaved or hurt you? plz plz JUST SLAP URSELF Bcoz, Its ur fault, I'm basically GOOD\",\n 'ham',\n 'Yo you guys ever figure out how much we need for alcohol? Jay and I are trying to figure out how much we can safely spend on weed',\n 'ham',\n '&lt;#&gt; ISH MINUTES WAS 5 MINUTES AGO. WTF.',\n 'ham',\n 'Thank You for calling.Forgot to say Happy Onam to you Sirji.I am fine here and remembered you when i met an insurance person.Meet You in Qatar Insha Allah.Rakhesh, ex Tata AIG who joined TISSCO,Tayseer.',\n 'spam',\n 'Congratulations ur awarded 500 of CD vouchers or 125gift guaranteed & Free entry 2 100 wkly draw txt MUSIC to 87066 TnCs www.Ldew.com1win150ppmx3age16',\n 'spam',\n 'Ur cash-balance is currently 500 pounds - to maximize ur cash-in now send CASH to 86688 only 150p/msg. CC: 08708800282 HG/Suite342/2Lands Row/W1J6HL',\n 'ham',\n \"I'm an actor. When i work, i work in the evening and sleep late. Since i'm unemployed at the moment, i ALWAYS sleep late. When you're unemployed, every day is saturday.\",\n 'ham',\n 'Hello! Just got here, st andrews-boy its a long way! Its cold. I will keep you posted',\n 'ham',\n 'Ha ha cool cool chikku chikku:-):-DB-)',\n 'ham',\n 'Oh ok no prob..',\n 'ham',\n \"Check audrey's status right now\",\n 'ham',\n 'Busy here. Trying to finish for new year. I am looking forward to finally meeting you...',\n 'ham',\n 'Good afternoon sunshine! How dawns that day ? Are we refreshed and happy to be alive? Do we breathe in the air and smile ? I think of you, my love ... As always',\n 'ham',\n 'Well i know Z will take care of me. So no worries.',\n 'spam',\n 'Update_Now - Xmas Offer! Latest Motorola, SonyEricsson & Nokia & FREE Bluetooth! Double Mins & 1000 Txt on Orange. Call MobileUpd8 on 08000839402 or call2optout/F4Q=',\n 'spam',\n 'Here is your discount code RP176781. To stop further messages reply stop. www.regalportfolio.co.uk. Customer Services 08717205546',\n 'ham',\n 'Wat uniform? In where get?',\n 'ham',\n \"Cool, text me when you're ready\",\n 'ham',\n 'Hello my boytoy ... Geeee I miss you already and I just woke up. I wish you were here in bed with me, cuddling me. I love you ...',\n 'ham',\n 'I will spoil you in bed as well :)',\n 'ham',\n \"I'm going for bath will msg you next  &lt;#&gt;  min..\",\n 'ham',\n 'I cant keep talking to people if am not sure i can pay them if they agree to price. So pls tell me what you want to really buy and how much you are willing to pay',\n 'spam',\n 'Thanks for your Ringtone Order, Reference T91. You will be charged GBP 4 per week. You can unsubscribe at anytime by calling customer services on 09057039994',\n 'ham',\n 'Can you say what happen',\n 'ham',\n \"You could have seen me..i did't recognise you Face.:)\",\n 'ham',\n \"Well there's not a lot of things happening in Lindsay on New years *sighs* Some bars in Ptbo and the blue heron has something going\",\n 'ham',\n 'Keep my payasam there if rinu brings',\n 'ham',\n 'I taught that Ranjith sir called me. So only i sms like that. Becaus hes verifying about project. Prabu told today so only pa dont mistake me..',\n 'ham',\n \"I guess that's why you re worried. You must know that there's a way the body repairs itself. And i'm quite sure you shouldn't worry. We'll take it slow. First the tests, they will guide when your ovulation is then just relax. Nothing you've said is a reason to worry but i.ll keep on followin you up.\",\n 'ham',\n 'Yeah sure, give me a couple minutes to track down my wallet',\n 'ham',\n 'Hey leave it. not a big deal:-) take care.',\n 'ham',\n 'Hey i will be late ah... Meet you at 945+',\n 'spam',\n 'Double mins and txts 4 6months FREE Bluetooth on Orange. Available on Sony, Nokia Motorola phones. Call MobileUpd8 on 08000839402 or call2optout/N9DX',\n 'ham',\n 'It took Mr owl 3 licks',\n 'ham',\n 'Customer place i will call you.',\n 'ham',\n 'Mm that time you dont like fun',\n 'spam',\n '4mths half price Orange line rental & latest camera phones 4 FREE. Had your phone 11mths ? Call MobilesDirect free on 08000938767 to update now! or2stoptxt',\n 'ham',\n 'Yup having my lunch buffet now.. U eat already?',\n 'ham',\n 'Huh so late... Fr dinner?',\n 'ham',\n 'Hey so this sat are we going for the intro pilates only? Or the kickboxing too? ',\n 'ham',\n 'Morning only i can ok.',\n 'ham',\n 'Yes i think so. I am in office but my lap is in room i think thats on for the last few days. I didnt shut that down',\n 'ham',\n 'Pick you up bout 7.30ish? What time are  and that going?',\n 'ham',\n 'From here after The performance award is calculated every two month.not for current one month period..',\n 'ham',\n 'Was actually sleeping and still might when u call back. So a text is gr8. You rock sis. Will send u a text wen i wake.',\n 'ham',\n \"You are always putting your business out there. You put pictures of your ass on facebook. You are one of the most open people i've ever met. Why would i think a picture of your room would hurt you, make you feel violated.\",\n 'ham',\n 'Good evening Sir, Al Salam Wahleykkum.sharing a happy news.By the grace of God, i got an offer from Tayseer,TISSCO and i joined.Hope you are fine.Inshah Allah,meet you sometime.Rakhesh,visitor from India.',\n 'ham',\n 'Hmmm...k...but i want to change the field quickly da:-)i wanna get system administrator or network administrator..',\n 'spam',\n 'FREE RINGTONE text FIRST to 87131 for a poly or text GET to 87131 for a true tone! Help? 0845 2814032 16 after 1st free, tones are 3xÂ£150pw to eÂ£nd txt stop',\n 'ham',\n 'Dear how is chechi. Did you talk to her',\n 'ham',\n 'The hair cream has not been shipped.',\n 'ham',\n \"None of that's happening til you get here though\",\n 'ham',\n 'Yep, the great loxahatchee xmas tree burning of  &lt;#&gt;  starts in an hour',\n 'ham',\n 'Haha get used to driving to usf man, I know a lot of stoners',\n 'ham',\n \"All was well until slightly disastrous class this pm with my fav darlings! Hope day off ok. Coffee wld be good as can't stay late tomorrow. Same time + place as always?\",\n 'ham',\n 'Hello! Good week? Fancy a drink or something later?',\n 'ham',\n 'Headin towards busetop',\n 'ham',\n 'Message:some text missing* Sender:Name Missing* *Number Missing *Sent:Date missing *Missing U a lot thats y everything is missing sent via fullonsms.com',\n 'ham',\n 'Come by our room at some point so we can iron out the plan for this weekend',\n 'ham',\n 'Cos i want it to be your thing',\n 'ham',\n \"Okies... I'll go yan jiu too... We can skip ard oso, go cine den go mrt one, blah blah blah... \",\n 'ham',\n 'Bring home some Wendy =D',\n 'spam',\n '100 dating service cal;l 09064012103 box334sk38ch',\n 'ham',\n 'Whatsup there. Dont u want to sleep',\n 'ham',\n 'Alright i have a new goal now',\n 'spam',\n 'FREE entry into our Â£250 weekly competition just text the word WIN to 80086 NOW. 18 T&C www.txttowin.co.uk',\n 'ham',\n \"Alright, I'll head out in a few minutes, text me where to meet you\",\n 'spam',\n 'Send a logo 2 ur lover - 2 names joined by a heart. Txt LOVE NAME1 NAME2 MOBNO eg LOVE ADAM EVE 07123456789 to 87077 Yahoo! POBox36504W45WQ TxtNO 4 no ads 150p',\n 'ham',\n \"Yes:)from last week itself i'm taking live call.\",\n 'spam',\n 'Someone has contacted our dating service and entered your phone because they fancy you! To find out who it is call from a landline 09111032124 . PoBox12n146tf150p',\n 'ham',\n 'Siva is in hostel aha:-.',\n 'spam',\n 'URGENT! Your Mobile number has been awarded with a Â£2000 prize GUARANTEED. Call 09058094455 from land line. Claim 3030. Valid 12hrs only',\n 'ham',\n 'Send this to ur friends and receive something about ur voice..... How is my speaking expression? 1.childish 2.naughty 3.Sentiment 4.rowdy 5.ful of attitude 6.romantic 7.shy 8.Attractive 9.funny  &lt;#&gt; .irritating  &lt;#&gt; .lovable. reply me..',\n 'ham',\n \"Ok. She'll be ok. I guess\",\n 'ham',\n 'aathi..where are you dear..',\n 'ham',\n 'Any pain on urination any thing else?',\n 'ham',\n '7 at esplanade.. Do Ã¼ mind giving me a lift cos i got no car today..',\n 'ham',\n 'I wnt to buy a BMW car urgently..its vry urgent.but hv a shortage of  &lt;#&gt; Lacs.there is no source to arng dis amt. &lt;#&gt; lacs..thats my prob',\n 'ham',\n 'At home watching tv lor.',\n 'ham',\n 'Does she usually take fifteen fucking minutes to respond to a yes or no question',\n 'spam',\n 'Congrats! Nokia 3650 video camera phone is your Call 09066382422 Calls cost 150ppm Ave call 3mins vary from mobiles 16+ Close 300603 post BCM4284 Ldn WC1N3XX',\n 'ham',\n 'Booked ticket for pongal?',\n 'ham',\n \"You available now? I'm like right around hillsborough &amp;  &lt;#&gt; th\",\n 'ham',\n 'The message sent is askin for  &lt;#&gt; dollars. Shoul i pay  &lt;#&gt;  or  &lt;#&gt; ?',\n 'ham',\n \"Ask g or iouri, I've told the story like ten times already\",\n 'ham',\n 'How long does applebees fucking take',\n 'ham',\n 'Hi hope u get this txt~journey hasnt been gd,now about 50 mins late I think.',\n 'ham',\n 'But i have to. I like to have love and arrange.',\n 'ham',\n 'Yes..he is really great..bhaji told kallis best cricketer after sachin in world:).very tough to get out.',\n 'ham',\n 'You were supposed to wake ME up &gt;:(',\n 'ham',\n 'Oic... I saw him too but i tot he din c me... I found a group liao...',\n 'ham',\n \"Sorry, I'll call later\",\n 'ham',\n '\"HEY HEY WERETHE MONKEESPEOPLE SAY WE MONKEYAROUND! HOWDY GORGEOUS, HOWU DOIN? FOUNDURSELF A JOBYET SAUSAGE?LOVE JEN XXX\"',\n 'ham',\n \"Sorry, my battery died, I can come by but I'm only getting a gram for now, where's your place?\",\n 'ham',\n 'Well done, blimey, exercise, yeah, i kinda remember wot that is, hmm. ',\n 'ham',\n 'I wont get concentration dear you know you are my mind and everything :-)',\n 'ham',\n 'LOL ... Have you made plans for new years?',\n 'ham',\n '10 min later k...',\n 'ham',\n 'hanks lotsly!',\n 'ham',\n 'Thanks for this hope you had a good day today',\n 'ham',\n 'K:)k:)what are detail you want to transfer?acc no enough?',\n 'ham',\n 'Ok i will tell her to stay out. Yeah its been tough but we are optimistic things will improve this month.',\n 'spam',\n \"Loan for any purpose Â£500 - Â£75,000. Homeowners + Tenants welcome. Have you been previously refused? We can still help. Call Free 0800 1956669 or text back 'help'\",\n 'ham',\n 'Si si. I think ill go make those oreo truffles.',\n 'ham',\n 'LOOK AT AMY URE A BEAUTIFUL, INTELLIGENT WOMAN AND I LIKE U A LOT. I KNOW U DONÂ’T LIKE ME LIKE THAT SO DONÂ’T WORRY.',\n 'ham',\n \"I hope you that's the result of being consistently intelligent and kind. Start asking him about practicum links and keep your ears open and all the best. ttyl\",\n 'ham',\n '1.20 that call cost. Which i guess isnt bad. Miss ya, need ya, want ya, love ya',\n 'ham',\n 'Going thru a very different feeling.wavering decisions and coping up with the same is the same individual.time will heal everything i believe.',\n 'ham',\n 'Where did u go? My phone is gonna die you have to stay in here',\n 'ham',\n 'Great. Never been better. Each day gives even more reasons to thank God',\n 'spam',\n \"UpgrdCentre Orange customer, you may now claim your FREE CAMERA PHONE upgrade for your loyalty. Call now on 0207 153 9153. Offer ends 26th July. T&C's apply. Opt-out available\",\n 'ham',\n \"Sorry, I'll call later ok bye\",\n 'ham',\n 'Ok i am on the way to railway',\n 'ham',\n 'great princess! I love giving and receiving oral. Doggy style is my fave position. How about you? I enjoy making love  &lt;#&gt;  times per night :)',\n 'ham',\n \"They don't put that stuff on the roads to keep it from getting slippery over there?\",\n 'ham',\n 'When are you going to ride your bike?',\n 'ham',\n \"Yup, no need. I'll jus wait 4 e rain 2 stop.\",\n 'ham',\n 'There are many company. Tell me the language.',\n 'spam',\n 'okmail: Dear Dave this is your final notice to collect your 4* Tenerife Holiday or #5000 CASH award! Call 09061743806 from landline. TCs SAE Box326 CW25WX 150ppm',\n 'ham',\n 'How long has it been since you screamed, princess?',\n 'ham',\n 'Nothing. I meant that once the money enters your account here, the bank will remove its flat rate. Someone transfered  &lt;#&gt;  to my account and  &lt;#&gt; dollars got removed. So the banks differ and charges also differ.be sure you trust the 9ja person you are sending account details to cos...',\n 'spam',\n \"Want 2 get laid tonight? Want real Dogging locations sent direct 2 ur Mob? Join the UK's largest Dogging Network by txting MOAN to 69888Nyt. ec2a. 31p.msg@150p\",\n 'ham',\n \"Nice line said by a broken heart- Plz don't cum 1 more times infront of me... Other wise once again I ll trust U... Good 9t:)\",\n 'ham',\n \"Ok I'm gonna head up to usf in like fifteen minutes\",\n 'ham',\n 'Love you aathi..love u lot..',\n 'ham',\n 'Tension ah?what machi?any problem?',\n 'ham',\n \"K, can I pick up another 8th when you're done?\",\n 'ham',\n \"When're you guys getting back? G said you were thinking about not staying for mcr\",\n 'ham',\n 'Almost there, see u in a sec',\n 'ham',\n 'Yo carlos, a few friends are already asking me about you, you working at all this weekend?',\n 'ham',\n 'Watching tv lor...',\n 'ham',\n 'Thank you baby! I cant wait to taste the real thing...',\n 'ham',\n 'You should change your fb to jaykwon thuglyfe falconerf',\n 'ham',\n 'If we win its really no 1 side for long time.',\n 'spam',\n 'FREE MESSAGE Activate your 500 FREE Text Messages by replying to this message with the word FREE For terms & conditions, visit www.07781482378.com',\n 'ham',\n 'Dear reached railway. What happen to you',\n 'ham',\n 'Depends on quality. If you want the type i sent boye, faded glory, then about 6. If you want ralphs maybe 2',\n 'ham',\n \"I think i've fixed it can you send a test message?\",\n 'ham',\n \"Sorry man my account's dry or I would, if you want we could trade back half or I could buy some shit with my credit card\",\n 'spam',\n 'Congrats! 1 year special cinema pass for 2 is yours. call 09061209465 now! C Suprman V, Matrix3, StarWars3, etc all 4 FREE! bx420-ip4-5we. 150pm. Dont miss out!',\n 'ham',\n \"Sorry,in meeting I'll call later\",\n 'ham',\n 'What class of  &lt;#&gt;  reunion?',\n 'ham',\n 'Are you free now?can i call now?',\n 'ham',\n 'Got meh... When?',\n 'ham',\n 'Nope... Think i will go for it on monday... Sorry i replied so late',\n 'ham',\n 'Some of them told accenture is not confirm. Is it true.',\n 'ham',\n 'Kate jackson rec center before 7ish, right?',\n 'ham',\n 'Dear i have reache room',\n 'ham',\n 'Fighting with the world is easy, u either win or lose bt fightng with some1 who is close to u is dificult if u lose - u lose if u win - u still lose.',\n 'ham',\n 'When can Ã¼ come out?',\n 'ham',\n 'Check with nuerologist.',\n ...]"
     },
     "metadata": {},
     "execution_count": 114
    }
   ],
   "source": [
    "parsedData = rawdata.replace('\\t','\\n').split('\\n')\n",
    "parsedData"
   ]
  },
  {
   "cell_type": "code",
   "execution_count": 115,
   "metadata": {},
   "outputs": [],
   "source": [
    "labelList = parsedData[0:-1:2]\n",
    "textList = parsedData[1::2]"
   ]
  },
  {
   "cell_type": "code",
   "execution_count": 116,
   "metadata": {},
   "outputs": [
    {
     "output_type": "execute_result",
     "data": {
      "text/plain": "     label                                          body_list\n0      ham  I've been searching for the right words to tha...\n1     spam  Free entry in 2 a wkly comp to win FA Cup fina...\n2      ham  Nah I don't think he goes to usf, he lives aro...\n3      ham  Even my brother is not like to speak with me. ...\n4      ham                I HAVE A DATE ON SUNDAY WITH WILL!!\n...    ...                                                ...\n5565  spam  This is the 2nd time we have tried 2 contact u...\n5566   ham              Will Ã¼ b going to esplanade fr home?\n5567   ham  Pity, * was in mood for that. So...any other s...\n5568   ham  The guy did some bitching but I acted like i'd...\n5569   ham                         Rofl. Its true to its name\n\n[5570 rows x 2 columns]",
      "text/html": "<div>\n<style scoped>\n    .dataframe tbody tr th:only-of-type {\n        vertical-align: middle;\n    }\n\n    .dataframe tbody tr th {\n        vertical-align: top;\n    }\n\n    .dataframe thead th {\n        text-align: right;\n    }\n</style>\n<table border=\"1\" class=\"dataframe\">\n  <thead>\n    <tr style=\"text-align: right;\">\n      <th></th>\n      <th>label</th>\n      <th>body_list</th>\n    </tr>\n  </thead>\n  <tbody>\n    <tr>\n      <th>0</th>\n      <td>ham</td>\n      <td>I've been searching for the right words to tha...</td>\n    </tr>\n    <tr>\n      <th>1</th>\n      <td>spam</td>\n      <td>Free entry in 2 a wkly comp to win FA Cup fina...</td>\n    </tr>\n    <tr>\n      <th>2</th>\n      <td>ham</td>\n      <td>Nah I don't think he goes to usf, he lives aro...</td>\n    </tr>\n    <tr>\n      <th>3</th>\n      <td>ham</td>\n      <td>Even my brother is not like to speak with me. ...</td>\n    </tr>\n    <tr>\n      <th>4</th>\n      <td>ham</td>\n      <td>I HAVE A DATE ON SUNDAY WITH WILL!!</td>\n    </tr>\n    <tr>\n      <th>...</th>\n      <td>...</td>\n      <td>...</td>\n    </tr>\n    <tr>\n      <th>5565</th>\n      <td>spam</td>\n      <td>This is the 2nd time we have tried 2 contact u...</td>\n    </tr>\n    <tr>\n      <th>5566</th>\n      <td>ham</td>\n      <td>Will Ã¼ b going to esplanade fr home?</td>\n    </tr>\n    <tr>\n      <th>5567</th>\n      <td>ham</td>\n      <td>Pity, * was in mood for that. So...any other s...</td>\n    </tr>\n    <tr>\n      <th>5568</th>\n      <td>ham</td>\n      <td>The guy did some bitching but I acted like i'd...</td>\n    </tr>\n    <tr>\n      <th>5569</th>\n      <td>ham</td>\n      <td>Rofl. Its true to its name</td>\n    </tr>\n  </tbody>\n</table>\n<p>5570 rows × 2 columns</p>\n</div>"
     },
     "metadata": {},
     "execution_count": 116
    }
   ],
   "source": [
    "import pandas as pd \n",
    "fullCorpus = pd.DataFrame({'label':labelList, 'body_list':textList})\n",
    "fullCorpus"
   ]
  },
  {
   "cell_type": "code",
   "execution_count": 117,
   "metadata": {},
   "outputs": [
    {
     "output_type": "stream",
     "name": "stdout",
     "text": "input data has 5570 rows and 2 columns\n"
    }
   ],
   "source": [
    "print(f'input data has {len(fullCorpus)} rows and {len(fullCorpus.columns)} columns')"
   ]
  },
  {
   "cell_type": "code",
   "execution_count": 118,
   "metadata": {},
   "outputs": [
    {
     "output_type": "stream",
     "name": "stdout",
     "text": "Out of 5570 rows, 4824 hams and 746 spams\n"
    }
   ],
   "source": [
    "print(f\"Out of {len(fullCorpus)} rows, {len(fullCorpus[fullCorpus['label']=='ham'])} hams and {len(fullCorpus[fullCorpus['label']=='spam'])} spams\")"
   ]
  },
  {
   "cell_type": "code",
   "execution_count": 119,
   "metadata": {},
   "outputs": [
    {
     "output_type": "stream",
     "name": "stdout",
     "text": "Number of null in label: 0\nNumber of null in body_list: 0\n"
    }
   ],
   "source": [
    "print(\"Number of null in label: {}\".format(fullCorpus['label'].isnull().sum()))\n",
    "print(\"Number of null in body_list: {}\".format(fullCorpus['body_list'].isnull().sum()))"
   ]
  },
  {
   "cell_type": "code",
   "execution_count": 250,
   "metadata": {},
   "outputs": [],
   "source": [
    "import re\n",
    "\n",
    "re_test = 'This is a made up string to test 2 different regex methods'\n",
    "re_test_messy = 'This      is a made up     string to test 2    different regex methods'\n",
    "re_test_messy1 = 'This-is-a-made/up.string*to>>>>test----2\"\"\"\"\"\"different~regex-methods'"
   ]
  },
  {
   "cell_type": "code",
   "execution_count": 121,
   "metadata": {},
   "outputs": [
    {
     "output_type": "execute_result",
     "data": {
      "text/plain": "['This',\n 'is',\n 'a',\n 'made',\n 'up',\n 'string',\n 'to',\n 'test',\n '2',\n 'different',\n 'regex',\n 'methods']"
     },
     "metadata": {},
     "execution_count": 121
    }
   ],
   "source": [
    "re.split('\\s', re_test)"
   ]
  },
  {
   "cell_type": "code",
   "execution_count": 122,
   "metadata": {},
   "outputs": [
    {
     "output_type": "execute_result",
     "data": {
      "text/plain": "['This',\n '',\n '',\n '',\n '',\n '',\n 'is',\n 'a',\n 'made',\n 'up',\n '',\n '',\n '',\n '',\n 'string',\n 'to',\n 'test',\n '2',\n '',\n '',\n '',\n 'different',\n 'regex',\n 'methods']"
     },
     "metadata": {},
     "execution_count": 122
    }
   ],
   "source": [
    "re.split('\\s', re_test_messy)"
   ]
  },
  {
   "cell_type": "code",
   "execution_count": 123,
   "metadata": {},
   "outputs": [
    {
     "output_type": "execute_result",
     "data": {
      "text/plain": "['This',\n 'is',\n 'a',\n 'made',\n 'up',\n 'string',\n 'to',\n 'test',\n '2',\n 'different',\n 'regex',\n 'methods']"
     },
     "metadata": {},
     "execution_count": 123
    }
   ],
   "source": [
    "re.split('\\s+', re_test_messy)"
   ]
  },
  {
   "cell_type": "code",
   "execution_count": 124,
   "metadata": {},
   "outputs": [
    {
     "output_type": "execute_result",
     "data": {
      "text/plain": "['This-is-a-made/up.string*to>>>>test----2\"\"\"\"\"\"different~regex-methods']"
     },
     "metadata": {},
     "execution_count": 124
    }
   ],
   "source": [
    "re.split('\\s+', re_test_messy1)"
   ]
  },
  {
   "cell_type": "code",
   "execution_count": 251,
   "metadata": {},
   "outputs": [
    {
     "output_type": "execute_result",
     "data": {
      "text/plain": "['This',\n 'is',\n 'a',\n 'made',\n 'up',\n 'string',\n 'to',\n 'test',\n '2',\n 'different',\n 'regex',\n 'methods']"
     },
     "metadata": {},
     "execution_count": 251
    }
   ],
   "source": [
    "re.split('\\W+', re_test_messy1)"
   ]
  },
  {
   "cell_type": "code",
   "execution_count": 126,
   "metadata": {},
   "outputs": [
    {
     "output_type": "execute_result",
     "data": {
      "text/plain": "['This',\n 'is',\n 'a',\n 'made',\n 'up',\n 'string',\n 'to',\n 'test',\n '2',\n 'different',\n 'regex',\n 'methods']"
     },
     "metadata": {},
     "execution_count": 126
    }
   ],
   "source": [
    "re.findall('\\S+', re_test)"
   ]
  },
  {
   "cell_type": "code",
   "execution_count": 273,
   "metadata": {},
   "outputs": [
    {
     "output_type": "execute_result",
     "data": {
      "text/plain": "['This',\n 'is',\n 'a',\n 'made',\n 'up',\n 'string',\n 'to',\n 'test',\n '2',\n 'different',\n 'regex',\n 'methods']"
     },
     "metadata": {},
     "execution_count": 273
    }
   ],
   "source": [
    "re.findall(u'\\w+', re_test_messy)"
   ]
  },
  {
   "cell_type": "code",
   "execution_count": 128,
   "metadata": {},
   "outputs": [
    {
     "output_type": "execute_result",
     "data": {
      "text/plain": "['This',\n 'is',\n 'a',\n 'made',\n 'up',\n 'string',\n 'to',\n 'test',\n '2',\n 'different',\n 'regex',\n 'methods']"
     },
     "metadata": {},
     "execution_count": 128
    }
   ],
   "source": [
    "re.findall('\\w+', re_test_messy1)"
   ]
  },
  {
   "cell_type": "code",
   "execution_count": 129,
   "metadata": {},
   "outputs": [],
   "source": [
    "pep8_test = 'I try to follow PEP8 guidelines PEP98'"
   ]
  },
  {
   "cell_type": "code",
   "execution_count": 130,
   "metadata": {},
   "outputs": [
    {
     "output_type": "execute_result",
     "data": {
      "text/plain": "['try', 'to', 'follow', 'guidelines']"
     },
     "metadata": {},
     "execution_count": 130
    }
   ],
   "source": [
    "re.findall('[a-z]+', pep8_test )"
   ]
  },
  {
   "cell_type": "code",
   "execution_count": 131,
   "metadata": {},
   "outputs": [
    {
     "output_type": "execute_result",
     "data": {
      "text/plain": "['I', 'PEP', 'PEP']"
     },
     "metadata": {},
     "execution_count": 131
    }
   ],
   "source": [
    "re.findall('[A-Z]+', pep8_test )"
   ]
  },
  {
   "cell_type": "code",
   "execution_count": 132,
   "metadata": {},
   "outputs": [
    {
     "output_type": "execute_result",
     "data": {
      "text/plain": "['PEP8', 'PEP98']"
     },
     "metadata": {},
     "execution_count": 132
    }
   ],
   "source": [
    "re.findall('[A-Z]+[0-9]+', pep8_test )"
   ]
  },
  {
   "cell_type": "code",
   "execution_count": 133,
   "metadata": {},
   "outputs": [
    {
     "output_type": "execute_result",
     "data": {
      "text/plain": "'I try to follow PEP7 Python Styleguide guidelines PEP7 Python Styleguide'"
     },
     "metadata": {},
     "execution_count": 133
    }
   ],
   "source": [
    "re.sub('[A-Z]+[0-9]+','PEP7 Python Styleguide', pep8_test )"
   ]
  },
  {
   "cell_type": "markdown",
   "metadata": {},
   "source": [
    "Removing Punctuation"
   ]
  },
  {
   "cell_type": "code",
   "execution_count": 134,
   "metadata": {},
   "outputs": [
    {
     "output_type": "execute_result",
     "data": {
      "text/plain": "'!\"#$%&\\'()*+,-./:;<=>?@[\\\\]^_`{|}~'"
     },
     "metadata": {},
     "execution_count": 134
    }
   ],
   "source": [
    "import string\n",
    "string.punctuation"
   ]
  },
  {
   "cell_type": "code",
   "execution_count": 135,
   "metadata": {},
   "outputs": [
    {
     "output_type": "execute_result",
     "data": {
      "text/plain": "     label                                          body_list  \\\n0      ham  I've been searching for the right words to tha...   \n1     spam  Free entry in 2 a wkly comp to win FA Cup fina...   \n2      ham  Nah I don't think he goes to usf, he lives aro...   \n3      ham  Even my brother is not like to speak with me. ...   \n4      ham                I HAVE A DATE ON SUNDAY WITH WILL!!   \n...    ...                                                ...   \n5565  spam  This is the 2nd time we have tried 2 contact u...   \n5566   ham              Will Ã¼ b going to esplanade fr home?   \n5567   ham  Pity, * was in mood for that. So...any other s...   \n5568   ham  The guy did some bitching but I acted like i'd...   \n5569   ham                         Rofl. Its true to its name   \n\n                                        body_list_clean  \n0     Ive been searching for the right words to than...  \n1     Free entry in 2 a wkly comp to win FA Cup fina...  \n2     Nah I dont think he goes to usf he lives aroun...  \n3     Even my brother is not like to speak with me T...  \n4                     I HAVE A DATE ON SUNDAY WITH WILL  \n...                                                 ...  \n5565  This is the 2nd time we have tried 2 contact u...  \n5566               Will Ã¼ b going to esplanade fr home  \n5567  Pity  was in mood for that Soany other suggest...  \n5568  The guy did some bitching but I acted like id ...  \n5569                          Rofl Its true to its name  \n\n[5570 rows x 3 columns]",
      "text/html": "<div>\n<style scoped>\n    .dataframe tbody tr th:only-of-type {\n        vertical-align: middle;\n    }\n\n    .dataframe tbody tr th {\n        vertical-align: top;\n    }\n\n    .dataframe thead th {\n        text-align: right;\n    }\n</style>\n<table border=\"1\" class=\"dataframe\">\n  <thead>\n    <tr style=\"text-align: right;\">\n      <th></th>\n      <th>label</th>\n      <th>body_list</th>\n      <th>body_list_clean</th>\n    </tr>\n  </thead>\n  <tbody>\n    <tr>\n      <th>0</th>\n      <td>ham</td>\n      <td>I've been searching for the right words to tha...</td>\n      <td>Ive been searching for the right words to than...</td>\n    </tr>\n    <tr>\n      <th>1</th>\n      <td>spam</td>\n      <td>Free entry in 2 a wkly comp to win FA Cup fina...</td>\n      <td>Free entry in 2 a wkly comp to win FA Cup fina...</td>\n    </tr>\n    <tr>\n      <th>2</th>\n      <td>ham</td>\n      <td>Nah I don't think he goes to usf, he lives aro...</td>\n      <td>Nah I dont think he goes to usf he lives aroun...</td>\n    </tr>\n    <tr>\n      <th>3</th>\n      <td>ham</td>\n      <td>Even my brother is not like to speak with me. ...</td>\n      <td>Even my brother is not like to speak with me T...</td>\n    </tr>\n    <tr>\n      <th>4</th>\n      <td>ham</td>\n      <td>I HAVE A DATE ON SUNDAY WITH WILL!!</td>\n      <td>I HAVE A DATE ON SUNDAY WITH WILL</td>\n    </tr>\n    <tr>\n      <th>...</th>\n      <td>...</td>\n      <td>...</td>\n      <td>...</td>\n    </tr>\n    <tr>\n      <th>5565</th>\n      <td>spam</td>\n      <td>This is the 2nd time we have tried 2 contact u...</td>\n      <td>This is the 2nd time we have tried 2 contact u...</td>\n    </tr>\n    <tr>\n      <th>5566</th>\n      <td>ham</td>\n      <td>Will Ã¼ b going to esplanade fr home?</td>\n      <td>Will Ã¼ b going to esplanade fr home</td>\n    </tr>\n    <tr>\n      <th>5567</th>\n      <td>ham</td>\n      <td>Pity, * was in mood for that. So...any other s...</td>\n      <td>Pity  was in mood for that Soany other suggest...</td>\n    </tr>\n    <tr>\n      <th>5568</th>\n      <td>ham</td>\n      <td>The guy did some bitching but I acted like i'd...</td>\n      <td>The guy did some bitching but I acted like id ...</td>\n    </tr>\n    <tr>\n      <th>5569</th>\n      <td>ham</td>\n      <td>Rofl. Its true to its name</td>\n      <td>Rofl Its true to its name</td>\n    </tr>\n  </tbody>\n</table>\n<p>5570 rows × 3 columns</p>\n</div>"
     },
     "metadata": {},
     "execution_count": 135
    }
   ],
   "source": [
    "def remove_punc(text):\n",
    "    text_nopunc = ''.join([char for char in text if char not in string.punctuation])\n",
    "    return text_nopunc\n",
    "fullCorpus['body_list_clean'] = fullCorpus['body_list'].apply(lambda x: remove_punc(x))\n",
    "fullCorpus"
   ]
  },
  {
   "cell_type": "markdown",
   "metadata": {},
   "source": [
    "Tokenization"
   ]
  },
  {
   "cell_type": "code",
   "execution_count": 210,
   "metadata": {},
   "outputs": [
    {
     "output_type": "execute_result",
     "data": {
      "text/plain": "     label                                          body_list  \\\n0      ham  I've been searching for the right words to tha...   \n1     spam  Free entry in 2 a wkly comp to win FA Cup fina...   \n2      ham  Nah I don't think he goes to usf, he lives aro...   \n3      ham  Even my brother is not like to speak with me. ...   \n4      ham                I HAVE A DATE ON SUNDAY WITH WILL!!   \n...    ...                                                ...   \n5565  spam  This is the 2nd time we have tried 2 contact u...   \n5566   ham              Will Ã¼ b going to esplanade fr home?   \n5567   ham  Pity, * was in mood for that. So...any other s...   \n5568   ham  The guy did some bitching but I acted like i'd...   \n5569   ham                         Rofl. Its true to its name   \n\n                                        body_list_clean  \\\n0     Ive been searching for the right words to than...   \n1     Free entry in 2 a wkly comp to win FA Cup fina...   \n2     Nah I dont think he goes to usf he lives aroun...   \n3     Even my brother is not like to speak with me T...   \n4                     I HAVE A DATE ON SUNDAY WITH WILL   \n...                                                 ...   \n5565  This is the 2nd time we have tried 2 contact u...   \n5566               Will Ã¼ b going to esplanade fr home   \n5567  Pity  was in mood for that Soany other suggest...   \n5568  The guy did some bitching but I acted like id ...   \n5569                          Rofl Its true to its name   \n\n                                    body_list_tokenized  \\\n0     [ive, been, searching, for, the, right, words,...   \n1     [free, entry, in, 2, a, wkly, comp, to, win, f...   \n2     [nah, i, dont, think, he, goes, to, usf, he, l...   \n3     [even, my, brother, is, not, like, to, speak, ...   \n4            [i, have, a, date, on, sunday, with, will]   \n...                                                 ...   \n5565  [this, is, the, 2nd, time, we, have, tried, 2,...   \n5566      [will, ã¼, b, going, to, esplanade, fr, home]   \n5567  [pity, was, in, mood, for, that, soany, other,...   \n5568  [the, guy, did, some, bitching, but, i, acted,...   \n5569                   [rofl, its, true, to, its, name]   \n\n                                       body_list_nostop  \\\n0     [ive, searching, right, words, thank, breather...   \n1     [free, entry, 2, wkly, comp, win, fa, cup, fin...   \n2     [nah, dont, think, goes, usf, lives, around, t...   \n3     [even, brother, like, speak, treat, like, aids...   \n4                                        [date, sunday]   \n...                                                 ...   \n5565  [2nd, time, tried, 2, contact, u, u, â, 750, p...   \n5566                [ã¼, b, going, esplanade, fr, home]   \n5567                   [pity, mood, soany, suggestions]   \n5568  [guy, bitching, acted, like, id, interested, b...   \n5569                                 [rofl, true, name]   \n\n                                      body_list_stemmed  \\\n0     [ive, search, right, word, thank, breather, pr...   \n1     [free, entri, 2, wkli, comp, win, fa, cup, fin...   \n2     [nah, dont, think, goe, usf, live, around, tho...   \n3     [even, brother, like, speak, treat, like, aid,...   \n4                                        [date, sunday]   \n...                                                 ...   \n5565  [2nd, time, tri, 2, contact, u, u, â, 750, pou...   \n5566                    [ã¼, b, go, esplanad, fr, home]   \n5567                       [piti, mood, soani, suggest]   \n5568  [guy, bitch, act, like, id, interest, buy, som...   \n5569                                 [rofl, true, name]   \n\n                                   body_list_lemmatized  \n0     [ive, searching, right, word, thank, breather,...  \n1     [free, entry, 2, wkly, comp, win, fa, cup, fin...  \n2     [nah, dont, think, go, usf, life, around, though]  \n3     [even, brother, like, speak, treat, like, aid,...  \n4                                        [date, sunday]  \n...                                                 ...  \n5565  [2nd, time, tried, 2, contact, u, u, â, 750, p...  \n5566                [ã¼, b, going, esplanade, fr, home]  \n5567                    [pity, mood, soany, suggestion]  \n5568  [guy, bitching, acted, like, id, interested, b...  \n5569                                 [rofl, true, name]  \n\n[5570 rows x 7 columns]",
      "text/html": "<div>\n<style scoped>\n    .dataframe tbody tr th:only-of-type {\n        vertical-align: middle;\n    }\n\n    .dataframe tbody tr th {\n        vertical-align: top;\n    }\n\n    .dataframe thead th {\n        text-align: right;\n    }\n</style>\n<table border=\"1\" class=\"dataframe\">\n  <thead>\n    <tr style=\"text-align: right;\">\n      <th></th>\n      <th>label</th>\n      <th>body_list</th>\n      <th>body_list_clean</th>\n      <th>body_list_tokenized</th>\n      <th>body_list_nostop</th>\n      <th>body_list_stemmed</th>\n      <th>body_list_lemmatized</th>\n    </tr>\n  </thead>\n  <tbody>\n    <tr>\n      <th>0</th>\n      <td>ham</td>\n      <td>I've been searching for the right words to tha...</td>\n      <td>Ive been searching for the right words to than...</td>\n      <td>[ive, been, searching, for, the, right, words,...</td>\n      <td>[ive, searching, right, words, thank, breather...</td>\n      <td>[ive, search, right, word, thank, breather, pr...</td>\n      <td>[ive, searching, right, word, thank, breather,...</td>\n    </tr>\n    <tr>\n      <th>1</th>\n      <td>spam</td>\n      <td>Free entry in 2 a wkly comp to win FA Cup fina...</td>\n      <td>Free entry in 2 a wkly comp to win FA Cup fina...</td>\n      <td>[free, entry, in, 2, a, wkly, comp, to, win, f...</td>\n      <td>[free, entry, 2, wkly, comp, win, fa, cup, fin...</td>\n      <td>[free, entri, 2, wkli, comp, win, fa, cup, fin...</td>\n      <td>[free, entry, 2, wkly, comp, win, fa, cup, fin...</td>\n    </tr>\n    <tr>\n      <th>2</th>\n      <td>ham</td>\n      <td>Nah I don't think he goes to usf, he lives aro...</td>\n      <td>Nah I dont think he goes to usf he lives aroun...</td>\n      <td>[nah, i, dont, think, he, goes, to, usf, he, l...</td>\n      <td>[nah, dont, think, goes, usf, lives, around, t...</td>\n      <td>[nah, dont, think, goe, usf, live, around, tho...</td>\n      <td>[nah, dont, think, go, usf, life, around, though]</td>\n    </tr>\n    <tr>\n      <th>3</th>\n      <td>ham</td>\n      <td>Even my brother is not like to speak with me. ...</td>\n      <td>Even my brother is not like to speak with me T...</td>\n      <td>[even, my, brother, is, not, like, to, speak, ...</td>\n      <td>[even, brother, like, speak, treat, like, aids...</td>\n      <td>[even, brother, like, speak, treat, like, aid,...</td>\n      <td>[even, brother, like, speak, treat, like, aid,...</td>\n    </tr>\n    <tr>\n      <th>4</th>\n      <td>ham</td>\n      <td>I HAVE A DATE ON SUNDAY WITH WILL!!</td>\n      <td>I HAVE A DATE ON SUNDAY WITH WILL</td>\n      <td>[i, have, a, date, on, sunday, with, will]</td>\n      <td>[date, sunday]</td>\n      <td>[date, sunday]</td>\n      <td>[date, sunday]</td>\n    </tr>\n    <tr>\n      <th>...</th>\n      <td>...</td>\n      <td>...</td>\n      <td>...</td>\n      <td>...</td>\n      <td>...</td>\n      <td>...</td>\n      <td>...</td>\n    </tr>\n    <tr>\n      <th>5565</th>\n      <td>spam</td>\n      <td>This is the 2nd time we have tried 2 contact u...</td>\n      <td>This is the 2nd time we have tried 2 contact u...</td>\n      <td>[this, is, the, 2nd, time, we, have, tried, 2,...</td>\n      <td>[2nd, time, tried, 2, contact, u, u, â, 750, p...</td>\n      <td>[2nd, time, tri, 2, contact, u, u, â, 750, pou...</td>\n      <td>[2nd, time, tried, 2, contact, u, u, â, 750, p...</td>\n    </tr>\n    <tr>\n      <th>5566</th>\n      <td>ham</td>\n      <td>Will Ã¼ b going to esplanade fr home?</td>\n      <td>Will Ã¼ b going to esplanade fr home</td>\n      <td>[will, ã¼, b, going, to, esplanade, fr, home]</td>\n      <td>[ã¼, b, going, esplanade, fr, home]</td>\n      <td>[ã¼, b, go, esplanad, fr, home]</td>\n      <td>[ã¼, b, going, esplanade, fr, home]</td>\n    </tr>\n    <tr>\n      <th>5567</th>\n      <td>ham</td>\n      <td>Pity, * was in mood for that. So...any other s...</td>\n      <td>Pity  was in mood for that Soany other suggest...</td>\n      <td>[pity, was, in, mood, for, that, soany, other,...</td>\n      <td>[pity, mood, soany, suggestions]</td>\n      <td>[piti, mood, soani, suggest]</td>\n      <td>[pity, mood, soany, suggestion]</td>\n    </tr>\n    <tr>\n      <th>5568</th>\n      <td>ham</td>\n      <td>The guy did some bitching but I acted like i'd...</td>\n      <td>The guy did some bitching but I acted like id ...</td>\n      <td>[the, guy, did, some, bitching, but, i, acted,...</td>\n      <td>[guy, bitching, acted, like, id, interested, b...</td>\n      <td>[guy, bitch, act, like, id, interest, buy, som...</td>\n      <td>[guy, bitching, acted, like, id, interested, b...</td>\n    </tr>\n    <tr>\n      <th>5569</th>\n      <td>ham</td>\n      <td>Rofl. Its true to its name</td>\n      <td>Rofl Its true to its name</td>\n      <td>[rofl, its, true, to, its, name]</td>\n      <td>[rofl, true, name]</td>\n      <td>[rofl, true, name]</td>\n      <td>[rofl, true, name]</td>\n    </tr>\n  </tbody>\n</table>\n<p>5570 rows × 7 columns</p>\n</div>"
     },
     "metadata": {},
     "execution_count": 210
    }
   ],
   "source": [
    "def tokenize(text):\n",
    "    tokens = re.split('\\W+', text)\n",
    "    return tokens\n",
    "\n",
    "fullCorpus['body_list_tokenized'] = fullCorpus['body_list_clean'].apply(lambda x: tokenize(x.lower()))\n",
    "fullCorpus"
   ]
  },
  {
   "cell_type": "markdown",
   "metadata": {},
   "source": [
    "No Stopwords"
   ]
  },
  {
   "cell_type": "code",
   "execution_count": 198,
   "metadata": {},
   "outputs": [
    {
     "output_type": "stream",
     "name": "stdout",
     "text": "['i', 'me', 'my', 'myself', 'we', 'our', 'ours', 'ourselves', 'you', \"you're\", \"you've\", \"you'll\", \"you'd\", 'your', 'yours', 'yourself', 'yourselves', 'he', 'him', 'his', 'himself', 'she', \"she's\", 'her', 'hers', 'herself', 'it', \"it's\", 'its', 'itself', 'they', 'them', 'their', 'theirs', 'themselves', 'what', 'which', 'who', 'whom', 'this', 'that', \"that'll\", 'these', 'those', 'am', 'is', 'are', 'was', 'were', 'be', 'been', 'being', 'have', 'has', 'had', 'having', 'do', 'does', 'did', 'doing', 'a', 'an', 'the', 'and', 'but', 'if', 'or', 'because', 'as', 'until', 'while', 'of', 'at', 'by', 'for', 'with', 'about', 'against', 'between', 'into', 'through', 'during', 'before', 'after', 'above', 'below', 'to', 'from', 'up', 'down', 'in', 'out', 'on', 'off', 'over', 'under', 'again', 'further', 'then', 'once', 'here', 'there', 'when', 'where', 'why', 'how', 'all', 'any', 'both', 'each', 'few', 'more', 'most', 'other', 'some', 'such', 'no', 'nor', 'not', 'only', 'own', 'same', 'so', 'than', 'too', 'very', 's', 't', 'can', 'will', 'just', 'don', \"don't\", 'should', \"should've\", 'now', 'd', 'll', 'm', 'o', 're', 've', 'y', 'ain', 'aren', \"aren't\", 'couldn', \"couldn't\", 'didn', \"didn't\", 'doesn', \"doesn't\", 'hadn', \"hadn't\", 'hasn', \"hasn't\", 'haven', \"haven't\", 'isn', \"isn't\", 'ma', 'mightn', \"mightn't\", 'mustn', \"mustn't\", 'needn', \"needn't\", 'shan', \"shan't\", 'shouldn', \"shouldn't\", 'wasn', \"wasn't\", 'weren', \"weren't\", 'won', \"won't\", 'wouldn', \"wouldn't\"]\n"
    }
   ],
   "source": [
    "import nltk\n",
    "\n",
    "stopword = nltk.corpus.stopwords.words('english')\n",
    "print(stopword)"
   ]
  },
  {
   "cell_type": "code",
   "execution_count": 200,
   "metadata": {},
   "outputs": [
    {
     "output_type": "execute_result",
     "data": {
      "text/plain": "     label                                          body_list  \\\n0      ham  I've been searching for the right words to tha...   \n1     spam  Free entry in 2 a wkly comp to win FA Cup fina...   \n2      ham  Nah I don't think he goes to usf, he lives aro...   \n3      ham  Even my brother is not like to speak with me. ...   \n4      ham                I HAVE A DATE ON SUNDAY WITH WILL!!   \n...    ...                                                ...   \n5565  spam  This is the 2nd time we have tried 2 contact u...   \n5566   ham              Will Ã¼ b going to esplanade fr home?   \n5567   ham  Pity, * was in mood for that. So...any other s...   \n5568   ham  The guy did some bitching but I acted like i'd...   \n5569   ham                         Rofl. Its true to its name   \n\n                                        body_list_clean  \\\n0     Ive been searching for the right words to than...   \n1     Free entry in 2 a wkly comp to win FA Cup fina...   \n2     Nah I dont think he goes to usf he lives aroun...   \n3     Even my brother is not like to speak with me T...   \n4                     I HAVE A DATE ON SUNDAY WITH WILL   \n...                                                 ...   \n5565  This is the 2nd time we have tried 2 contact u...   \n5566               Will Ã¼ b going to esplanade fr home   \n5567  Pity  was in mood for that Soany other suggest...   \n5568  The guy did some bitching but I acted like id ...   \n5569                          Rofl Its true to its name   \n\n                                    body_list_tokenized  \\\n0     [ive, been, searching, for, the, right, words,...   \n1     [free, entry, in, 2, a, wkly, comp, to, win, f...   \n2     [nah, i, dont, think, he, goes, to, usf, he, l...   \n3     [even, my, brother, is, not, like, to, speak, ...   \n4            [i, have, a, date, on, sunday, with, will]   \n...                                                 ...   \n5565  [this, is, the, 2nd, time, we, have, tried, 2,...   \n5566      [will, ã¼, b, going, to, esplanade, fr, home]   \n5567  [pity, was, in, mood, for, that, soany, other,...   \n5568  [the, guy, did, some, bitching, but, i, acted,...   \n5569                   [rofl, its, true, to, its, name]   \n\n                                       body_list_nostop  \\\n0     [ive, searching, right, words, thank, breather...   \n1     [free, entry, 2, wkly, comp, win, fa, cup, fin...   \n2     [nah, dont, think, goes, usf, lives, around, t...   \n3     [even, brother, like, speak, treat, like, aids...   \n4                                        [date, sunday]   \n...                                                 ...   \n5565  [2nd, time, tried, 2, contact, u, u, â, 750, p...   \n5566                [ã¼, b, going, esplanade, fr, home]   \n5567                   [pity, mood, soany, suggestions]   \n5568  [guy, bitching, acted, like, id, interested, b...   \n5569                                 [rofl, true, name]   \n\n                                      body_list_stemmed  \\\n0     [ive, search, right, word, thank, breather, pr...   \n1     [free, entri, 2, wkli, comp, win, fa, cup, fin...   \n2     [nah, dont, think, goe, usf, live, around, tho...   \n3     [even, brother, like, speak, treat, like, aid,...   \n4                                        [date, sunday]   \n...                                                 ...   \n5565  [2nd, time, tri, 2, contact, u, u, â, 750, pou...   \n5566                    [ã¼, b, go, esplanad, fr, home]   \n5567                       [piti, mood, soani, suggest]   \n5568  [guy, bitch, act, like, id, interest, buy, som...   \n5569                                 [rofl, true, name]   \n\n                                   body_list_lemmatized  \n0     [Ive, searching, right, word, thank, breather,...  \n1     [Free, entry, 2, wkly, comp, win, FA, Cup, fin...  \n2     [Nah, I, dont, think, go, usf, life, around, t...  \n3     [Even, brother, like, speak, They, treat, like...  \n4            [I, HAVE, A, DATE, ON, SUNDAY, WITH, WILL]  \n...                                                 ...  \n5565  [This, 2nd, time, tried, 2, contact, u, U, Â, ...  \n5566          [Will, Ã¼, b, going, esplanade, fr, home]  \n5567                    [Pity, mood, Soany, suggestion]  \n5568  [The, guy, bitching, I, acted, like, id, inter...  \n5569                            [Rofl, Its, true, name]  \n\n[5570 rows x 7 columns]",
      "text/html": "<div>\n<style scoped>\n    .dataframe tbody tr th:only-of-type {\n        vertical-align: middle;\n    }\n\n    .dataframe tbody tr th {\n        vertical-align: top;\n    }\n\n    .dataframe thead th {\n        text-align: right;\n    }\n</style>\n<table border=\"1\" class=\"dataframe\">\n  <thead>\n    <tr style=\"text-align: right;\">\n      <th></th>\n      <th>label</th>\n      <th>body_list</th>\n      <th>body_list_clean</th>\n      <th>body_list_tokenized</th>\n      <th>body_list_nostop</th>\n      <th>body_list_stemmed</th>\n      <th>body_list_lemmatized</th>\n    </tr>\n  </thead>\n  <tbody>\n    <tr>\n      <th>0</th>\n      <td>ham</td>\n      <td>I've been searching for the right words to tha...</td>\n      <td>Ive been searching for the right words to than...</td>\n      <td>[ive, been, searching, for, the, right, words,...</td>\n      <td>[ive, searching, right, words, thank, breather...</td>\n      <td>[ive, search, right, word, thank, breather, pr...</td>\n      <td>[Ive, searching, right, word, thank, breather,...</td>\n    </tr>\n    <tr>\n      <th>1</th>\n      <td>spam</td>\n      <td>Free entry in 2 a wkly comp to win FA Cup fina...</td>\n      <td>Free entry in 2 a wkly comp to win FA Cup fina...</td>\n      <td>[free, entry, in, 2, a, wkly, comp, to, win, f...</td>\n      <td>[free, entry, 2, wkly, comp, win, fa, cup, fin...</td>\n      <td>[free, entri, 2, wkli, comp, win, fa, cup, fin...</td>\n      <td>[Free, entry, 2, wkly, comp, win, FA, Cup, fin...</td>\n    </tr>\n    <tr>\n      <th>2</th>\n      <td>ham</td>\n      <td>Nah I don't think he goes to usf, he lives aro...</td>\n      <td>Nah I dont think he goes to usf he lives aroun...</td>\n      <td>[nah, i, dont, think, he, goes, to, usf, he, l...</td>\n      <td>[nah, dont, think, goes, usf, lives, around, t...</td>\n      <td>[nah, dont, think, goe, usf, live, around, tho...</td>\n      <td>[Nah, I, dont, think, go, usf, life, around, t...</td>\n    </tr>\n    <tr>\n      <th>3</th>\n      <td>ham</td>\n      <td>Even my brother is not like to speak with me. ...</td>\n      <td>Even my brother is not like to speak with me T...</td>\n      <td>[even, my, brother, is, not, like, to, speak, ...</td>\n      <td>[even, brother, like, speak, treat, like, aids...</td>\n      <td>[even, brother, like, speak, treat, like, aid,...</td>\n      <td>[Even, brother, like, speak, They, treat, like...</td>\n    </tr>\n    <tr>\n      <th>4</th>\n      <td>ham</td>\n      <td>I HAVE A DATE ON SUNDAY WITH WILL!!</td>\n      <td>I HAVE A DATE ON SUNDAY WITH WILL</td>\n      <td>[i, have, a, date, on, sunday, with, will]</td>\n      <td>[date, sunday]</td>\n      <td>[date, sunday]</td>\n      <td>[I, HAVE, A, DATE, ON, SUNDAY, WITH, WILL]</td>\n    </tr>\n    <tr>\n      <th>...</th>\n      <td>...</td>\n      <td>...</td>\n      <td>...</td>\n      <td>...</td>\n      <td>...</td>\n      <td>...</td>\n      <td>...</td>\n    </tr>\n    <tr>\n      <th>5565</th>\n      <td>spam</td>\n      <td>This is the 2nd time we have tried 2 contact u...</td>\n      <td>This is the 2nd time we have tried 2 contact u...</td>\n      <td>[this, is, the, 2nd, time, we, have, tried, 2,...</td>\n      <td>[2nd, time, tried, 2, contact, u, u, â, 750, p...</td>\n      <td>[2nd, time, tri, 2, contact, u, u, â, 750, pou...</td>\n      <td>[This, 2nd, time, tried, 2, contact, u, U, Â, ...</td>\n    </tr>\n    <tr>\n      <th>5566</th>\n      <td>ham</td>\n      <td>Will Ã¼ b going to esplanade fr home?</td>\n      <td>Will Ã¼ b going to esplanade fr home</td>\n      <td>[will, ã¼, b, going, to, esplanade, fr, home]</td>\n      <td>[ã¼, b, going, esplanade, fr, home]</td>\n      <td>[ã¼, b, go, esplanad, fr, home]</td>\n      <td>[Will, Ã¼, b, going, esplanade, fr, home]</td>\n    </tr>\n    <tr>\n      <th>5567</th>\n      <td>ham</td>\n      <td>Pity, * was in mood for that. So...any other s...</td>\n      <td>Pity  was in mood for that Soany other suggest...</td>\n      <td>[pity, was, in, mood, for, that, soany, other,...</td>\n      <td>[pity, mood, soany, suggestions]</td>\n      <td>[piti, mood, soani, suggest]</td>\n      <td>[Pity, mood, Soany, suggestion]</td>\n    </tr>\n    <tr>\n      <th>5568</th>\n      <td>ham</td>\n      <td>The guy did some bitching but I acted like i'd...</td>\n      <td>The guy did some bitching but I acted like id ...</td>\n      <td>[the, guy, did, some, bitching, but, i, acted,...</td>\n      <td>[guy, bitching, acted, like, id, interested, b...</td>\n      <td>[guy, bitch, act, like, id, interest, buy, som...</td>\n      <td>[The, guy, bitching, I, acted, like, id, inter...</td>\n    </tr>\n    <tr>\n      <th>5569</th>\n      <td>ham</td>\n      <td>Rofl. Its true to its name</td>\n      <td>Rofl Its true to its name</td>\n      <td>[rofl, its, true, to, its, name]</td>\n      <td>[rofl, true, name]</td>\n      <td>[rofl, true, name]</td>\n      <td>[Rofl, Its, true, name]</td>\n    </tr>\n  </tbody>\n</table>\n<p>5570 rows × 7 columns</p>\n</div>"
     },
     "metadata": {},
     "execution_count": 200
    }
   ],
   "source": [
    "def remove_stopwords(tokenized_list):\n",
    "     text = [word for word in tokenized_list if word not in stopword]\n",
    "     return text\n",
    "\n",
    "fullCorpus['body_list_nostop'] = fullCorpus['body_list_tokenized'].apply(lambda x: remove_stopwords(x))\n",
    "fullCorpus"
   ]
  },
  {
   "cell_type": "markdown",
   "metadata": {},
   "source": [
    "Supplemental Data Cleaning: Using Stemming\n",
    "\n",
    "\n",
    "Test out Porter stemmer\n",
    "\n",
    "(Eradicating suffix and prefix)"
   ]
  },
  {
   "cell_type": "code",
   "execution_count": 202,
   "metadata": {},
   "outputs": [],
   "source": [
    "ps = nltk.PorterStemmer()"
   ]
  },
  {
   "cell_type": "code",
   "execution_count": 204,
   "metadata": {},
   "outputs": [
    {
     "output_type": "execute_result",
     "data": {
      "text/plain": "['MARTIN_EXTENSIONS',\n 'NLTK_EXTENSIONS',\n 'ORIGINAL_ALGORITHM',\n '__abstractmethods__',\n '__class__',\n '__delattr__',\n '__dict__',\n '__dir__',\n '__doc__',\n '__eq__',\n '__format__',\n '__ge__',\n '__getattribute__',\n '__gt__',\n '__hash__',\n '__init__',\n '__init_subclass__',\n '__le__',\n '__lt__',\n '__module__',\n '__ne__',\n '__new__',\n '__reduce__',\n '__reduce_ex__',\n '__repr__',\n '__setattr__',\n '__sizeof__',\n '__str__',\n '__subclasshook__',\n '__weakref__',\n '_abc_impl',\n '_apply_rule_list',\n '_contains_vowel',\n '_ends_cvc',\n '_ends_double_consonant',\n '_has_positive_measure',\n '_is_consonant',\n '_measure',\n '_replace_suffix',\n '_step1a',\n '_step1b',\n '_step1c',\n '_step2',\n '_step3',\n '_step4',\n '_step5a',\n '_step5b',\n 'mode',\n 'pool',\n 'stem',\n 'vowels']"
     },
     "metadata": {},
     "execution_count": 204
    }
   ],
   "source": [
    "dir(ps)"
   ]
  },
  {
   "cell_type": "code",
   "execution_count": 206,
   "metadata": {},
   "outputs": [
    {
     "output_type": "stream",
     "name": "stdout",
     "text": "grow\ngrow\ngrow\n"
    }
   ],
   "source": [
    "print(ps.stem('grows'))\n",
    "print(ps.stem('growing'))\n",
    "print(ps.stem('grow'))"
   ]
  },
  {
   "cell_type": "code",
   "execution_count": 208,
   "metadata": {},
   "outputs": [
    {
     "output_type": "stream",
     "name": "stdout",
     "text": "run\nrun\nrunner\n"
    }
   ],
   "source": [
    "print(ps.stem('run'))\n",
    "print(ps.stem('running'))\n",
    "print(ps.stem('runner'))"
   ]
  },
  {
   "cell_type": "markdown",
   "metadata": {},
   "source": [
    "Stem Text"
   ]
  },
  {
   "cell_type": "code",
   "execution_count": 209,
   "metadata": {},
   "outputs": [
    {
     "output_type": "execute_result",
     "data": {
      "text/plain": "     label                                          body_list  \\\n0      ham  I've been searching for the right words to tha...   \n1     spam  Free entry in 2 a wkly comp to win FA Cup fina...   \n2      ham  Nah I don't think he goes to usf, he lives aro...   \n3      ham  Even my brother is not like to speak with me. ...   \n4      ham                I HAVE A DATE ON SUNDAY WITH WILL!!   \n...    ...                                                ...   \n5565  spam  This is the 2nd time we have tried 2 contact u...   \n5566   ham              Will Ã¼ b going to esplanade fr home?   \n5567   ham  Pity, * was in mood for that. So...any other s...   \n5568   ham  The guy did some bitching but I acted like i'd...   \n5569   ham                         Rofl. Its true to its name   \n\n                                        body_list_clean  \\\n0     Ive been searching for the right words to than...   \n1     Free entry in 2 a wkly comp to win FA Cup fina...   \n2     Nah I dont think he goes to usf he lives aroun...   \n3     Even my brother is not like to speak with me T...   \n4                     I HAVE A DATE ON SUNDAY WITH WILL   \n...                                                 ...   \n5565  This is the 2nd time we have tried 2 contact u...   \n5566               Will Ã¼ b going to esplanade fr home   \n5567  Pity  was in mood for that Soany other suggest...   \n5568  The guy did some bitching but I acted like id ...   \n5569                          Rofl Its true to its name   \n\n                                    body_list_tokenized  \\\n0     [ive, been, searching, for, the, right, words,...   \n1     [free, entry, in, 2, a, wkly, comp, to, win, f...   \n2     [nah, i, dont, think, he, goes, to, usf, he, l...   \n3     [even, my, brother, is, not, like, to, speak, ...   \n4            [i, have, a, date, on, sunday, with, will]   \n...                                                 ...   \n5565  [this, is, the, 2nd, time, we, have, tried, 2,...   \n5566      [will, ã¼, b, going, to, esplanade, fr, home]   \n5567  [pity, was, in, mood, for, that, soany, other,...   \n5568  [the, guy, did, some, bitching, but, i, acted,...   \n5569                   [rofl, its, true, to, its, name]   \n\n                                       body_list_nostop  \\\n0     [ive, searching, right, words, thank, breather...   \n1     [free, entry, 2, wkly, comp, win, fa, cup, fin...   \n2     [nah, dont, think, goes, usf, lives, around, t...   \n3     [even, brother, like, speak, treat, like, aids...   \n4                                        [date, sunday]   \n...                                                 ...   \n5565  [2nd, time, tried, 2, contact, u, u, â, 750, p...   \n5566                [ã¼, b, going, esplanade, fr, home]   \n5567                   [pity, mood, soany, suggestions]   \n5568  [guy, bitching, acted, like, id, interested, b...   \n5569                                 [rofl, true, name]   \n\n                                      body_list_stemmed  \\\n0     [ive, search, right, word, thank, breather, pr...   \n1     [free, entri, 2, wkli, comp, win, fa, cup, fin...   \n2     [nah, dont, think, goe, usf, live, around, tho...   \n3     [even, brother, like, speak, treat, like, aid,...   \n4                                        [date, sunday]   \n...                                                 ...   \n5565  [2nd, time, tri, 2, contact, u, u, â, 750, pou...   \n5566                    [ã¼, b, go, esplanad, fr, home]   \n5567                       [piti, mood, soani, suggest]   \n5568  [guy, bitch, act, like, id, interest, buy, som...   \n5569                                 [rofl, true, name]   \n\n                                   body_list_lemmatized  \n0     [ive, searching, right, word, thank, breather,...  \n1     [free, entry, 2, wkly, comp, win, fa, cup, fin...  \n2     [nah, dont, think, go, usf, life, around, though]  \n3     [even, brother, like, speak, treat, like, aid,...  \n4                                        [date, sunday]  \n...                                                 ...  \n5565  [2nd, time, tried, 2, contact, u, u, â, 750, p...  \n5566                [ã¼, b, going, esplanade, fr, home]  \n5567                    [pity, mood, soany, suggestion]  \n5568  [guy, bitching, acted, like, id, interested, b...  \n5569                                 [rofl, true, name]  \n\n[5570 rows x 7 columns]",
      "text/html": "<div>\n<style scoped>\n    .dataframe tbody tr th:only-of-type {\n        vertical-align: middle;\n    }\n\n    .dataframe tbody tr th {\n        vertical-align: top;\n    }\n\n    .dataframe thead th {\n        text-align: right;\n    }\n</style>\n<table border=\"1\" class=\"dataframe\">\n  <thead>\n    <tr style=\"text-align: right;\">\n      <th></th>\n      <th>label</th>\n      <th>body_list</th>\n      <th>body_list_clean</th>\n      <th>body_list_tokenized</th>\n      <th>body_list_nostop</th>\n      <th>body_list_stemmed</th>\n      <th>body_list_lemmatized</th>\n    </tr>\n  </thead>\n  <tbody>\n    <tr>\n      <th>0</th>\n      <td>ham</td>\n      <td>I've been searching for the right words to tha...</td>\n      <td>Ive been searching for the right words to than...</td>\n      <td>[ive, been, searching, for, the, right, words,...</td>\n      <td>[ive, searching, right, words, thank, breather...</td>\n      <td>[ive, search, right, word, thank, breather, pr...</td>\n      <td>[ive, searching, right, word, thank, breather,...</td>\n    </tr>\n    <tr>\n      <th>1</th>\n      <td>spam</td>\n      <td>Free entry in 2 a wkly comp to win FA Cup fina...</td>\n      <td>Free entry in 2 a wkly comp to win FA Cup fina...</td>\n      <td>[free, entry, in, 2, a, wkly, comp, to, win, f...</td>\n      <td>[free, entry, 2, wkly, comp, win, fa, cup, fin...</td>\n      <td>[free, entri, 2, wkli, comp, win, fa, cup, fin...</td>\n      <td>[free, entry, 2, wkly, comp, win, fa, cup, fin...</td>\n    </tr>\n    <tr>\n      <th>2</th>\n      <td>ham</td>\n      <td>Nah I don't think he goes to usf, he lives aro...</td>\n      <td>Nah I dont think he goes to usf he lives aroun...</td>\n      <td>[nah, i, dont, think, he, goes, to, usf, he, l...</td>\n      <td>[nah, dont, think, goes, usf, lives, around, t...</td>\n      <td>[nah, dont, think, goe, usf, live, around, tho...</td>\n      <td>[nah, dont, think, go, usf, life, around, though]</td>\n    </tr>\n    <tr>\n      <th>3</th>\n      <td>ham</td>\n      <td>Even my brother is not like to speak with me. ...</td>\n      <td>Even my brother is not like to speak with me T...</td>\n      <td>[even, my, brother, is, not, like, to, speak, ...</td>\n      <td>[even, brother, like, speak, treat, like, aids...</td>\n      <td>[even, brother, like, speak, treat, like, aid,...</td>\n      <td>[even, brother, like, speak, treat, like, aid,...</td>\n    </tr>\n    <tr>\n      <th>4</th>\n      <td>ham</td>\n      <td>I HAVE A DATE ON SUNDAY WITH WILL!!</td>\n      <td>I HAVE A DATE ON SUNDAY WITH WILL</td>\n      <td>[i, have, a, date, on, sunday, with, will]</td>\n      <td>[date, sunday]</td>\n      <td>[date, sunday]</td>\n      <td>[date, sunday]</td>\n    </tr>\n    <tr>\n      <th>...</th>\n      <td>...</td>\n      <td>...</td>\n      <td>...</td>\n      <td>...</td>\n      <td>...</td>\n      <td>...</td>\n      <td>...</td>\n    </tr>\n    <tr>\n      <th>5565</th>\n      <td>spam</td>\n      <td>This is the 2nd time we have tried 2 contact u...</td>\n      <td>This is the 2nd time we have tried 2 contact u...</td>\n      <td>[this, is, the, 2nd, time, we, have, tried, 2,...</td>\n      <td>[2nd, time, tried, 2, contact, u, u, â, 750, p...</td>\n      <td>[2nd, time, tri, 2, contact, u, u, â, 750, pou...</td>\n      <td>[2nd, time, tried, 2, contact, u, u, â, 750, p...</td>\n    </tr>\n    <tr>\n      <th>5566</th>\n      <td>ham</td>\n      <td>Will Ã¼ b going to esplanade fr home?</td>\n      <td>Will Ã¼ b going to esplanade fr home</td>\n      <td>[will, ã¼, b, going, to, esplanade, fr, home]</td>\n      <td>[ã¼, b, going, esplanade, fr, home]</td>\n      <td>[ã¼, b, go, esplanad, fr, home]</td>\n      <td>[ã¼, b, going, esplanade, fr, home]</td>\n    </tr>\n    <tr>\n      <th>5567</th>\n      <td>ham</td>\n      <td>Pity, * was in mood for that. So...any other s...</td>\n      <td>Pity  was in mood for that Soany other suggest...</td>\n      <td>[pity, was, in, mood, for, that, soany, other,...</td>\n      <td>[pity, mood, soany, suggestions]</td>\n      <td>[piti, mood, soani, suggest]</td>\n      <td>[pity, mood, soany, suggestion]</td>\n    </tr>\n    <tr>\n      <th>5568</th>\n      <td>ham</td>\n      <td>The guy did some bitching but I acted like i'd...</td>\n      <td>The guy did some bitching but I acted like id ...</td>\n      <td>[the, guy, did, some, bitching, but, i, acted,...</td>\n      <td>[guy, bitching, acted, like, id, interested, b...</td>\n      <td>[guy, bitch, act, like, id, interest, buy, som...</td>\n      <td>[guy, bitching, acted, like, id, interested, b...</td>\n    </tr>\n    <tr>\n      <th>5569</th>\n      <td>ham</td>\n      <td>Rofl. Its true to its name</td>\n      <td>Rofl Its true to its name</td>\n      <td>[rofl, its, true, to, its, name]</td>\n      <td>[rofl, true, name]</td>\n      <td>[rofl, true, name]</td>\n      <td>[rofl, true, name]</td>\n    </tr>\n  </tbody>\n</table>\n<p>5570 rows × 7 columns</p>\n</div>"
     },
     "metadata": {},
     "execution_count": 209
    }
   ],
   "source": [
    "def stemming(tokenized_text):\n",
    "    text = [ps.stem(word) for word in tokenized_text]\n",
    "    return text\n",
    "\n",
    "fullCorpus['body_list_stemmed'] = fullCorpus['body_list_nostop'].apply(lambda x: stemming(x))\n",
    "fullCorpus"
   ]
  },
  {
   "cell_type": "markdown",
   "metadata": {},
   "source": [
    "Lemmatize"
   ]
  },
  {
   "cell_type": "code",
   "execution_count": 211,
   "metadata": {},
   "outputs": [
    {
     "output_type": "execute_result",
     "data": {
      "text/plain": "['__class__',\n '__delattr__',\n '__dict__',\n '__dir__',\n '__doc__',\n '__eq__',\n '__format__',\n '__ge__',\n '__getattribute__',\n '__gt__',\n '__hash__',\n '__init__',\n '__init_subclass__',\n '__le__',\n '__lt__',\n '__module__',\n '__ne__',\n '__new__',\n '__reduce__',\n '__reduce_ex__',\n '__repr__',\n '__setattr__',\n '__sizeof__',\n '__str__',\n '__subclasshook__',\n '__weakref__',\n 'lemmatize']"
     },
     "metadata": {},
     "execution_count": 211
    }
   ],
   "source": [
    "wn = nltk.WordNetLemmatizer()\n",
    "dir(wn)"
   ]
  },
  {
   "cell_type": "code",
   "execution_count": 212,
   "metadata": {},
   "outputs": [
    {
     "output_type": "stream",
     "name": "stdout",
     "text": "meanness\nmeaning\nmean\n"
    }
   ],
   "source": [
    "print(wn.lemmatize('meanness'))\n",
    "print(wn.lemmatize('meaning'))\n",
    "print(ps.stem('meanness'))"
   ]
  },
  {
   "cell_type": "code",
   "execution_count": 213,
   "metadata": {},
   "outputs": [
    {
     "output_type": "stream",
     "name": "stdout",
     "text": "goose\ngoose\n"
    }
   ],
   "source": [
    "print(wn.lemmatize('geese'))\n",
    "print(wn.lemmatize('goose'))"
   ]
  },
  {
   "cell_type": "code",
   "execution_count": 214,
   "metadata": {
    "tags": [
     "outputPrepend",
     "outputPrepend",
     "outputPrepend",
     "outputPrepend",
     "outputPrepend",
     "outputPrepend",
     "outputPrepend",
     "outputPrepend",
     "outputPrepend",
     "outputPrepend",
     "outputPrepend",
     "outputPrepend",
     "outputPrepend"
    ]
   },
   "outputs": [
    {
     "output_type": "execute_result",
     "data": {
      "text/plain": "  label                                          body_list  \\\n0   ham  I've been searching for the right words to tha...   \n1  spam  Free entry in 2 a wkly comp to win FA Cup fina...   \n2   ham  Nah I don't think he goes to usf, he lives aro...   \n3   ham  Even my brother is not like to speak with me. ...   \n4   ham                I HAVE A DATE ON SUNDAY WITH WILL!!   \n\n                                     body_list_clean  \\\n0  Ive been searching for the right words to than...   \n1  Free entry in 2 a wkly comp to win FA Cup fina...   \n2  Nah I dont think he goes to usf he lives aroun...   \n3  Even my brother is not like to speak with me T...   \n4                  I HAVE A DATE ON SUNDAY WITH WILL   \n\n                                 body_list_tokenized  \\\n0  [ive, been, searching, for, the, right, words,...   \n1  [free, entry, in, 2, a, wkly, comp, to, win, f...   \n2  [nah, i, dont, think, he, goes, to, usf, he, l...   \n3  [even, my, brother, is, not, like, to, speak, ...   \n4         [i, have, a, date, on, sunday, with, will]   \n\n                                    body_list_nostop  \\\n0  [ive, searching, right, words, thank, breather...   \n1  [free, entry, 2, wkly, comp, win, fa, cup, fin...   \n2  [nah, dont, think, goes, usf, lives, around, t...   \n3  [even, brother, like, speak, treat, like, aids...   \n4                                     [date, sunday]   \n\n                                   body_list_stemmed  \\\n0  [ive, search, right, word, thank, breather, pr...   \n1  [free, entri, 2, wkli, comp, win, fa, cup, fin...   \n2  [nah, dont, think, goe, usf, live, around, tho...   \n3  [even, brother, like, speak, treat, like, aid,...   \n4                                     [date, sunday]   \n\n                                body_list_lemmatized  \n0  [ive, searching, right, word, thank, breather,...  \n1  [free, entry, 2, wkly, comp, win, fa, cup, fin...  \n2  [nah, dont, think, go, usf, life, around, though]  \n3  [even, brother, like, speak, treat, like, aid,...  \n4                                     [date, sunday]  ",
      "text/html": "<div>\n<style scoped>\n    .dataframe tbody tr th:only-of-type {\n        vertical-align: middle;\n    }\n\n    .dataframe tbody tr th {\n        vertical-align: top;\n    }\n\n    .dataframe thead th {\n        text-align: right;\n    }\n</style>\n<table border=\"1\" class=\"dataframe\">\n  <thead>\n    <tr style=\"text-align: right;\">\n      <th></th>\n      <th>label</th>\n      <th>body_list</th>\n      <th>body_list_clean</th>\n      <th>body_list_tokenized</th>\n      <th>body_list_nostop</th>\n      <th>body_list_stemmed</th>\n      <th>body_list_lemmatized</th>\n    </tr>\n  </thead>\n  <tbody>\n    <tr>\n      <th>0</th>\n      <td>ham</td>\n      <td>I've been searching for the right words to tha...</td>\n      <td>Ive been searching for the right words to than...</td>\n      <td>[ive, been, searching, for, the, right, words,...</td>\n      <td>[ive, searching, right, words, thank, breather...</td>\n      <td>[ive, search, right, word, thank, breather, pr...</td>\n      <td>[ive, searching, right, word, thank, breather,...</td>\n    </tr>\n    <tr>\n      <th>1</th>\n      <td>spam</td>\n      <td>Free entry in 2 a wkly comp to win FA Cup fina...</td>\n      <td>Free entry in 2 a wkly comp to win FA Cup fina...</td>\n      <td>[free, entry, in, 2, a, wkly, comp, to, win, f...</td>\n      <td>[free, entry, 2, wkly, comp, win, fa, cup, fin...</td>\n      <td>[free, entri, 2, wkli, comp, win, fa, cup, fin...</td>\n      <td>[free, entry, 2, wkly, comp, win, fa, cup, fin...</td>\n    </tr>\n    <tr>\n      <th>2</th>\n      <td>ham</td>\n      <td>Nah I don't think he goes to usf, he lives aro...</td>\n      <td>Nah I dont think he goes to usf he lives aroun...</td>\n      <td>[nah, i, dont, think, he, goes, to, usf, he, l...</td>\n      <td>[nah, dont, think, goes, usf, lives, around, t...</td>\n      <td>[nah, dont, think, goe, usf, live, around, tho...</td>\n      <td>[nah, dont, think, go, usf, life, around, though]</td>\n    </tr>\n    <tr>\n      <th>3</th>\n      <td>ham</td>\n      <td>Even my brother is not like to speak with me. ...</td>\n      <td>Even my brother is not like to speak with me T...</td>\n      <td>[even, my, brother, is, not, like, to, speak, ...</td>\n      <td>[even, brother, like, speak, treat, like, aids...</td>\n      <td>[even, brother, like, speak, treat, like, aid,...</td>\n      <td>[even, brother, like, speak, treat, like, aid,...</td>\n    </tr>\n    <tr>\n      <th>4</th>\n      <td>ham</td>\n      <td>I HAVE A DATE ON SUNDAY WITH WILL!!</td>\n      <td>I HAVE A DATE ON SUNDAY WITH WILL</td>\n      <td>[i, have, a, date, on, sunday, with, will]</td>\n      <td>[date, sunday]</td>\n      <td>[date, sunday]</td>\n      <td>[date, sunday]</td>\n    </tr>\n  </tbody>\n</table>\n</div>"
     },
     "metadata": {},
     "execution_count": 214
    }
   ],
   "source": [
    "def lemmatizing(tokenized_text):\n",
    "    text = [wn.lemmatize(word) for word in tokenized_text]\n",
    "    return text\n",
    "fullCorpus['body_list_lemmatized'] = fullCorpus['body_list_nostop'].apply(lambda x: lemmatizing(x))\n",
    "fullCorpus.head()"
   ]
  },
  {
   "cell_type": "markdown",
   "metadata": {},
   "source": [
    "Phase 2: Vectorizing Raw Data: Count Vectoriztion"
   ]
  },
  {
   "cell_type": "code",
   "execution_count": 219,
   "metadata": {
    "tags": [
     "outputPrepend"
    ]
   },
   "outputs": [
    {
     "output_type": "stream",
     "name": "stdout",
     "text": " 'slice', 'slide', 'sliding', 'slightly', 'slip', 'slipper', 'slippery', 'slo', 'slo4msgs', 'slob', 'slot', 'slovely', 'slow', 'slower', 'slowing', 'slowly', 'slurp', 'sm', 'smack', 'small', 'smaller', 'smart', 'smartcall', 'smarter', 'smartthough', 'smash', 'smashed', 'smear', 'smell', 'smeone', 'smidgin', 'smile', 'smiled', 'smiley', 'smiling', 'smith', 'smithswitch', 'smoke', 'smoked', 'smokin', 'smoking', 'smoothly', 'sms08718727870', 'smsd', 'smsing', 'smsservices', 'smsshsexnetun', 'smth', 'sn', 'snake', 'snap', 'snappy', 'snatch', 'snd', 'sneham', 'snickering', 'sno', 'snogs', 'snoringthey', 'snow', 'snowball', 'snowboarding', 'snowman', 'snuggle', 'so', 'soany', 'soc', 'sochte', 'social', 'sofa', 'soft', 'software', 'soil', 'soiree', 'sol', 'soladha', 'sold', 'solihull', 'solve', 'solved', 'some1', 'somebody', 'someday', 'someone', 'someonethat', 'someonone', 'someplace', 'somerset', 'somethin', 'something', 'somethings', 'sometime', 'sometimerakheshvisitor', 'sometimes', 'sometme', 'somewhat', 'somewhere', 'somewheresomeone', 'somewhr', 'somone', 'somtimes', 'sonathaya', 'sonetimes', 'song', 'sonot', 'sony', 'sonyericsson', 'soo', 'soon', 'soonc', 'sooner', 'soonlots', 'soonxxx', 'sooo', 'soooo', 'sooooo', 'sophas', 'sore', 'sorrow', 'sorrowsi', 'sorry', 'sorryi', 'sorryin', 'sort', 'sorta', 'sorted', 'sortedbut', 'sorting', 'sory', 'sorydarealyfrm', 'soso', 'soul', 'sound', 'sounding', 'soundtrack', 'soup', 'source', 'south', 'southern', 'souveniers', 'soz', 'sp', 'space', 'spacebucks', 'spageddies', 'spain', 'spam', 'spanish', 'spare', 'spark', 'sparkling', 'spatula', 'speak', 'speaking', 'spec', 'special', 'specialcall', 'speciale', 'specialisation', 'specialise', 'specially', 'specific', 'specify', 'speechless', 'speed', 'speedchat', 'speeding', 'speling', 'spell', 'spelled', 'spelling', 'spend', 'spending', 'spent', 'spice', 'spider', 'spiderman', 'spiffing', 'spile', 'spin', 'spinout', 'spiral', 'spirit', 'spiritual', 'spjanuary', 'spk', 'spl', 'splash', 'splashmobile', 'splat', 'splendid', 'split', 'splleing', 'splwat', 'spoil', 'spoiled', 'spoilt', 'spoke', 'spoken', 'sponsor', 'spontaneously', 'spook', 'spoon', 'sporadically', 'sport', 'sportsx', 'spose', 'spot', 'spotty', 'spouse', 'sppok', 'spreadsheet', 'spree', 'spring', 'sprint', 'sprwm', 'sptv', 'sptyrone', 'spunout', 'spy', 'sq825', 'squatting', 'squeeeeeze', 'squeezed', 'squid', 'squishy', 'sr', 'srsly', 'srt', 'sry', 'ssi', 'ssindia', 'ssnervous', 'st', 'stability', 'stable', 'stadium', 'staff', 'staffsciencenusedusgphyhcmkteachingpc1323', 'stage', 'stagwood', 'stair', 'stalk', 'stalking', 'stamp', 'stamped', 'stand', 'standard', 'standing', 'stapati', 'star', 'starer', 'staring', 'starring', 'starshine', 'start', 'started', 'startedindia', 'starti', 'starting', 'starve', 'starving', 'starwars3', 'stash', 'stated', 'statement', 'station', 'status', 'stay', 'stayed', 'stayin', 'staying', 'std', 'stdtxtrate', 'steak', 'steal', 'stealing', 'steam', 'steamboat', 'steed', 'steering', 'step', 'stereo', 'stereophonics', 'sterling', 'sterm', 'steve', 'stevelike', 'stewartsize', 'steyn', 'sth', 'sthis', 'stick', 'sticky', 'stifled', 'stil', 'still', 'stillmaybe', 'stink', 'stitch', 'stock', 'stocked', 'stockport', 'stolen', 'stomach', 'stomp', 'stone', 'stoner', 'stool', 'stop', 'stop2', 'stop2stop', 'stopbcm', 'stopcost', 'stopcs', 'stopped', 'stoptxt', 'stoptxtstop', 'stoptxtstopâ', 'store', 'storelike', 'storming', 'story', 'str', 'str8', 'straight', 'strain', 'strange', 'stranger', 'strangersaw', 'stream', 'street', 'streetshall', 'stress', 'stressed', 'stressful', 'stressfull', 'stretch', 'strewn', 'strict', 'strike', 'string', 'strip', 'stripe', 'stroke', 'strong', 'strongbuy', 'strongly', 'strt', 'strtd', 'struggling', 'sts', 'stu', 'stubborn', 'stuck', 'studdying', 'student', 'studentfinancial', 'studentsthis', 'studio', 'study', 'studying', 'studyn', 'stuff', 'stuff42moro', 'stuffed', 'stuffing', 'stuffleaving', 'stuffwhy', 'stunning', 'stupid', 'stupidits', 'style', 'styling', 'stylish', 'stylist', 'sub', 'subject', 'subletting', 'submitted', 'submitting', 'subpoly', 'subscribe', 'subscribe6gbpmnth', 'subscribed', 'subscriber', 'subscription', 'subscriptn3gbpwk', 'subscrition', 'subsequent', 'subtoitles', 'success', 'successful', 'successfully', 'suck', 'sucker', 'sudden', 'suddenly', 'sudn', 'sue', 'suffer', 'suffering', 'suffers', 'sufficient', 'sugababes', 'suganya', 'sugar', 'sugardad', 'suggest', 'suggestion', 'suit', 'suite', 'suitemates', 'sullivan', 'sum', 'sum1', 'sumfing', 'summer', 'summon', 'sumthin', 'sumthinxx', 'sun', 'sun0819', 'sunday', 'sundayish', 'sunlight', 'sunny', 'sunoco', 'sunroof', 'sunscreen', 'sunshine', 'suntec', 'sup', 'super', 'superb', 'superior', 'supervisor', 'suply', 'supose', 'supplier', 'supply', 'support', 'supportproviding', 'supportvery', 'suppose', 'supposed', 'supreme', 'suprman', 'sura', 'sure', 'surely', 'surf', 'surfing', 'surgical', 'surly', 'surname', 'surprise', 'surprised', 'surrender', 'surrounded', 'survey', 'surya', 'sutra', 'sux', 'suzy', 'svc', 'sw7', 'sw73ss', 'swalpa', 'swan', 'swann', 'swap', 'swashbuckling', 'swat', 'swatch', 'sway', 'swayze', 'swear', 'sweater', 'sweatter', 'sweet', 'sweetest', 'sweetheart', 'sweetie', 'swell', 'swhrt', 'swimming', 'swimsuit', 'swing', 'swiss', 'switch', 'swollen', 'swoop', 'swt', 'swtheart', 'syd', 'syllabus', 'symbol', 'sympathetic', 'symptom', 'synced', 'syria', 'syrup', 'system', 't', 't91', 'ta', 'table', 'tablet', 'tackle', 'taco', 'tactful', 'tactless', 'tadaaaaa', 'tag', 'tagged', 'tahan', 'tai', 'tait', 'taj', 'taka', 'take', 'takecare', 'taken', 'takenonly', 'takin', 'taking', 'talent', 'talk', 'talkbut', 'talked', 'talkin', 'talking', 'tall', 'tallahassee', 'tallent', 'tamilnaduthen', 'tampa', 'tank', 'tantrum', 'tap', 'tape', 'tariff', 'tarot', 'tarpon', 'taste', 'tasts', 'tat', 'tata', 'tattoo', 'tau', 'taught', 'taunton', 'tax', 'taxi', 'taxless', 'taxt', 'taylor', 'tayseertissco', 'tb', 'tbspersolvo', 'tc', 'tcllc', 'tcrw1', 'tcsbcm4235wc1n3xx', 'tcsc', 'tcsstop', 'tddnewsletteremc1couk', 'te', 'tea', 'teach', 'teacher', 'teaching', 'teacoffee', 'team', 'tear', 'tease', 'teasing', 'tech', 'technical', 'technology', 'tee', 'teenager', 'teeth', 'teethif', 'teethis', 'teju', 'tel', 'telephone', 'telephonic', 'teletext', 'tell', 'telling', 'tellmiss', 'telly', 'telphone', 'telugu', 'teluguthts', 'temales', 'temp', 'temper', 'temple', 'ten', 'tenant', 'tendency', 'tenerife', 'tensed', 'tension', 'teresa', 'term', 'terminatedwe', 'termsapply', 'terrible', 'terrific', 'terrorist', 'terry', 'tescos', 'tessypls', 'test', 'testing', 'tex', 'texas', 'texd', 'text', 'text82228', 'textand', 'textbook', 'textbuddy', 'textcomp', 'texted', 'textin', 'texting', 'textoperator', 'textpod', 'textsweekend', 'tgxxrz', 'th', 'thandiyachu', 'thangam', 'thangamits', 'thank', 'thanks', 'thanks2', 'thanksgiving', 'thanku', 'thankyou', 'thanx', 'thanx4', 'thanxxx', 'thasa', 'that2worzels', 'thatd', 'thatdont', 'thati', 'thatll', 'thatmum', 'thatnow', 'thats', 'thatâ', 'the4th', 'theacusations', 'theater', 'theatre', 'thecd', 'thedailydraw', 'thekingshead', 'theme', 'themed', 'themob', 'themobhit', 'themobyo', 'themp', 'thenwill', 'theoretically', 'theory', 'theplace', 'thepub', 'there', 'theredo', 'theregoodnight', 'therell', 'therere', 'therexx', 'thesedays', 'theseyours', 'thesis', 'thesmszonecom', 'thewend', 'theyll', 'theyre', 'thgt', 'thia', 'thin', 'thing', 'thinghow', 'think', 'thinked', 'thinkin', 'thinking', 'thinkthis', 'thinl', 'thirunelvali', 'thisdon', 'thk', 'thkin', 'thm', 'thnk', 'thnq', 'thnx', 'tho', 'thoso', 'thot', 'thou', 'though', 'thought', 'thoughtsi', 'thousand', 'thout', 'thread', 'threat', 'three', 'threw', 'thriller', 'throat', 'throw', 'throwin', 'throwing', 'thrown', 'thru', 'thrurespect', 'tht', 'thts', 'thuglyfe', 'thurs', 'thursday', 'thus', 'thx', 'thy', 'ti', 'tick', 'ticket', 'tiempo', 'tiger', 'tight', 'tightly', 'tigress', 'tihs', 'tiime', 'til', 'till', 'tim', 'time', 'timedhoni', 'timegud', 'timehope', 'timeslil', 'timeyou', 'timeyour', 'timi', 'timin', 'timing', 'tiny', 'tip', 'tired', 'tiring', 'tirunelvai', 'tirunelvali', 'tirupur', 'tisscotayseer', 'title', 'titleso', 'tiwary', 'tix', 'tiz', 'tke', 'tkts', 'tlk', 'tm', 'tming', 'tmobile', 'tmorrowpls', 'tmr', 'tmrw', 'tmw', 'tnc', 'tncs', 'toa', 'toaday', 'tobacco', 'tobed', 'tocallshall', 'toclaim', 'today', 'todaybut', 'todaydo', 'todayfrom', 'todaygood', 'todayhe', 'todaysundaysunday', 'todo', 'tog', 'together', 'tohar', 'toilet', 'tok', 'token', 'toking', 'tol', 'told', 'toldshe', 'toledo', 'tolerance', 'toleratbcs', 'toll', 'tom', 'tomarrow', 'tome', 'tomeandsaidthis', 'tomo', 'tomocant', 'tomorro', 'tomorrow', 'tomorrowcall', 'tomorrowtoday', 'tomorw', 'ton', 'tone', 'tones2u', 'tones2youcouk', 'tonesreply', 'tonexs', 'tonght', 'tongued', 'tonight', 'tonite', 'tonitebusy', 'tonitethings', 'tonsolitusaswell', 'took', 'tookplace', 'tool', 'toolets', 'tooo', 'toopray', 'toot', 'toothpaste', 'tootsie', 'top', 'topic', 'topicsorry', 'toplay', 'topped', 'toppoly', 'tor', 'torch', 'torrent', 'tortilla', 'torture', 'tosend', 'toshiba', 'toss', 'tot', 'total', 'totally', 'tote', 'touch', 'touched', 'tough', 'toughest', 'tour', 'towards', 'town', 'towncud', 'towndontmatter', 'toxic', 'toyota', 'tp', 'track', 'trackmarque', 'trade', 'tradition', 'traffic', 'train', 'trained', 'training', 'trainners', 'tram', 'tranquility', 'transaction', 'transcribing', 'transfer', 'transferacc', 'transfered', 'transferred', 'transfr', 'transfred', 'transport', 'trash', 'trauma', 'trav', 'travel', 'traveling', 'travelled', 'travelling', 'treacle', 'treadmill', 'treasure', 'treat', 'treated', 'treatin', 'treble', 'tree', 'trek', 'trend', 'trial', 'tried', 'trip', 'triple', 'trishul', 'triumphed', 'tron', 'trouble', 'troubleshooting', 'trouser', 'truble', 'truck', 'true', 'truekdo', 'truffle', 'truly', 'truro', 'trust', 'trusting', 'truth', 'truthful', 'try', 'tryin', 'trying', 'trywales', 'tsandcs', 'tscs', 'tscs08714740323', 'tscs087147403231winawkage16', 'tshirt', 'tsunami', 'tt', 'ttyl', 'tue', 'tues', 'tuesday', 'tui', 'tuition', 'tul', 'tulip', 'tunde', 'tune', 'tunji', 'turkey', 'turn', 'turned', 'turning', 'tuth', 'tv', 'tvhe', 'tvlol', 'twat', 'twelve', 'twenty', 'twice', 'twiggs', 'twilight', 'twin', 'twinks', 'twittering', 'two', 'tx', 'txt', 'txt250com', 'txtauction', 'txtauctiontxt', 'txtin', 'txting', 'txtjourney', 'txtno', 'txts', 'txtx', 'tyler', 'type', 'typelyk', 'typical', 'u', 'u2moro', 'u4', 'uawakefeellikw', 'ubandu', 'ubi', 'ucall', 'ud', 'ufind', 'ugadi', 'ugh', 'ugos', 'uh', 'uhhhhrmm', 'uif', 'uin', 'ujhhhhhhh', 'uk', 'ukmobiledate', 'ukp2000', 'ull', 'ultimate', 'ultimately', 'ultimatum', 'um', 'umma', 'ummmawill', 'ummmmmaah', 'un', 'unable', 'unbelievable', 'unclaimed', 'uncle', 'uncomfortable', 'unconditionally', 'unconscious', 'unconsciously', 'unconvinced', 'uncountable', 'uncut', 'underdtand', 'understand', 'understanding', 'understood', 'underwear', 'undrstnd', 'undrstndng', 'unemployed', 'uneventful', 'unfolds', 'unfortunately', 'unfortuntly', 'unhappiness', 'unhappy', 'uni', 'unicef', 'uniform', 'unintentional', 'unintentionally', 'unique', 'uniquei', 'unit', 'united', 'univ', 'university', 'unknown', 'unless', 'unlike', 'unlimited', 'unmits', 'unnecessarily', 'unni', 'unrecognized', 'unredeemed', 'unsecured', 'unsold', 'unsoldmike', 'unsoldnow', 'unspoken', 'unsub', 'unsubscribe', 'unsubscribed', 'unusual', 'uothrwise', 'up4', 'upcharge', 'upd8', 'updat', 'update', 'updatenow', 'upgrade', 'upgrading', 'upgrdcentre', 'uphad', 'upload', 'uploaded', 'uploads', 'upnot', 'upon', 'upping', 'ups', 'upset', 'upseti', 'upsetits', 'upstairs', 'upto', 'uptown', 'upyeh', 'ur', 'ure', 'urfeeling', 'urgent', 'urgentbut', 'urgentlyits', 'urgh', 'urgnt', 'urgoin', 'urgran', 'urination', 'url', 'urmomi', 'urn', 'urself', 'us', 'usb', 'usc', 'uscedu', 'use', 'used', 'useful', 'useless', 'user', 'usf', 'usget', 'usher', 'using', 'uslet', 'usmle', 'usno', 'uso', 'usps', 'usual', 'usualiam', 'usually', 'uterus', 'utter', 'uttered', 'uu', 'uup', 'uv', 'uve', 'uwana', 'uwant', 'uworld', 'uxxxx', 'uâ', 'v', 'vaazhthukkal', 'vague', 'vaguely', 'vai', 'vale', 'valentine', 'valid', 'valid12hrs', 'valuable', 'value', 'valued', 'valuemorning', 'valuing', 'varaya', 'vargu', 'various', 'varma', 'vary', 'vasai', 'vat', 'vatian', 'vava', 'vco', 'vday', 'vega', 'vegetable', 'veggie', 'vehicle', 'velachery', 'velly', 'velusamy', 'venaam', 'venugopal', 'verified', 'verify', 'verifying', 'version', 'versus', 'vettam', 'vewy', 'via', 'vibrant', 'vibrate', 'vibrator', 'vic', 'victor', 'victoria', 'vid', 'video', 'videochat', 'videophones', 'videopic', 'videosound', 'videosounds2', 'vidnot', 'view', 'vijay', 'vijaykanth', 'vikky', 'vikkyim', 'vilikkamt', 'vill', 'villa', 'village', 'vinobanagar', 'violated', 'violence', 'violet', 'vip', 'virgil', 'virgin', 'virtual', 'visa', 'visionsmscom', 'visit', 'visiting', 'visitneed', 'visitor', 'vital', 'vitamin', 'viva', 'vivek', 'vivekanand', 'viveki', 'vl', 'vldo', 'voda', 'vodafone', 'vodka', 'voice', 'voicemail', 'voila', 'volcano', 'vomit', 'vomitin', 'vomiting', 'vote', 'voted', 'voucher', 'voucherstext', 'vpist', 'vpod', 'vry', 'vth', 'vtired', 'vu', 'w', 'w111wx', 'w14rg', 'w1a', 'w1j', 'w1t1jy', 'w4', 'w45wq', 'w8in', 'wa', 'wa14', 'waaaat', 'wad', 'wadebridgei', 'wah', 'wahala', 'wahay', 'waheed', 'waheeda', 'wahleykkumsharing', 'waht', 'wait', 'waited', 'waiti', 'waitin', 'waiting', 'waitshould', 'waitu', 'wake', 'waking', 'wale', 'waliking', 'walk', 'walkabout', 'walked', 'walkin', 'walking', 'wall', 'wallet', 'wallpaper', 'wallpaperall', 'walmart', 'walsall', 'wamma', 'wan', 'wan2', 'wana', 'wanna', 'wannatell', 'want', 'want2come', 'wanted', 'wanting', 'wap', 'waqt', 'warm', 'warming', 'warned', 'warner', 'warning', 'warranty', 'warwick', 'washob', 'wasnt', 'wasnâ', 'waste', 'wasted', 'wasting', 'wat', 'watch', 'watched', 'watchin', 'watching', 'watchng', 'water', 'watever', 'watevr', 'wating', 'watll', 'watrdayno', 'wats', 'watt', 'wave', 'way', 'way2smscom', 'waythis', 'wc', 'wc1n', 'wc1n3xx', 'weak', 'weakness', 'weapon', 'wear', 'wearing', 'weasel', 'weaseling', 'weather', 'web', 'web2mobile', 'webadres', 'webeburnin', 'webpage', 'website', 'websitenow', 'wed', 'weddin', 'wedding', 'weddingfriend', 'wedlunch', 'wednesday', 'wee', 'weed', 'weeddeficient', 'week', 'weekday', 'weekend', 'weekly', 'weekstop', 'weigh', 'weighed', 'weight', 'weighthaha', 'weightloss', 'weird', 'weirdest', 'weirdo', 'weirdy', 'weiyi', 'welcome', 'well', 'wellda', 'welli', 'welltake', 'wellyou', 'welp', 'wen', 'wendy', 'wenever', 'went', 'wenwecan', 'wer', 'wereare', 'werebored', 'werent', 'werethe', 'wesley', 'west', 'western', 'westlife', 'westonzoyland', 'westshore', 'wet', 'wetherspoons', 'weve', 'wewa', 'weâ', 'whassup', 'whatever', 'whats', 'whatsup', 'whatâ', 'wheat', 'wheel', 'wheellock', 'whenever', 'whenevr', 'whenre', 'whens', 'whenwhere', 'whereare', 'wherebtw', 'wheres', 'wherever', 'wherevr', 'wherres', 'whether', 'whileamp', 'whilltake', 'whisper', 'white', 'whn', 'who', 'whole', 'whore', 'whose', 'whr', 'wi', 'wicked', 'wicket', 'wicklow', 'wid', 'widelivecomindex', 'wif', 'wife', 'wifedont', 'wifehow', 'wifi', 'wihtuot', 'wikipediacom', 'wil', 'wild', 'wildest', 'wildlife', 'willing', 'willpower', 'win', 'win150ppmx3age16', 'wind', 'window', 'windy', 'wine', 'wined', 'wing', 'wining', 'winner', 'winnersclub', 'winning', 'winterstone', 'wipe', 'wipro', 'wiproyou', 'wire3net', 'wisdom', 'wise', 'wish', 'wisheds', 'wishin', 'wishing', 'wishlist', 'wiskey', 'wit', 'withdraw', 'wither', 'within', 'without', 'witin', 'witot', 'witout', 'wiv', 'wizzle', 'wk', 'wkend', 'wkent150p16', 'wkg', 'wkly', 'wknd', 'wks', 'wktxt', 'wlcome', 'wld', 'wmlid1b6a5ecef91ff937819firsttrue180430jul05', 'wmlid820554ad0a1705572711firsttrueâ', 'wn', 'wnevr', 'wnt', 'wo', 'woah', 'wocay', 'woke', 'woken', 'woman', 'womdarfull', 'wondar', 'wondarfull', 'wonder', 'wonderful', 'wondering', 'wont', 'woo', 'wood', 'woodland', 'woohoo', 'woot', 'woould', 'woozles', 'worc', 'word', 'wordcollect', 'wordnot', 'wordsevry', 'wordstart', 'work', 'workage', 'workand', 'workin', 'working', 'worklove', 'workout', 'world', 'worldgnun', 'worldmay', 'worldvery', 'worm', 'worried', 'worriedx', 'worry', 'worryc', 'worrying', 'worryuse', 'worse', 'worst', 'worth', 'worthless', 'wot', 'wotu', 'wotz', 'woul', 'would', 'woulda', 'wouldnt', 'wound', 'wow', 'wquestion', 'wrc', 'wrecked', 'wrench', 'wrenching', 'wright', 'write', 'writhing', 'wrk', 'wrki', 'wrkin', 'wrking', 'wrks', 'wrld', 'wrnog', 'wrong', 'wrongly', 'wrongtake', 'wrote', 'wt', 'wtc', 'wtf', 'wth', 'wthout', 'wud', 'wudnt', 'wuld', 'wuldnt', 'wun', 'www07781482378com', 'www4tcbiz', 'www80488biz', 'wwwapplausestorecom', 'wwwareyouuniquecouk', 'wwwasjesuscom', 'wwwb4utelecom', 'wwwbridalpetticoatdreamscouk', 'wwwcashbincouk', 'wwwclubmobycom', 'wwwclubzedcouk', 'wwwcnupdatescomnewsletter', 'wwwcomuknet', 'wwwdbuknet', 'wwwflirtpartyus', 'wwwfullonsmscom', 'wwwgambtv', 'wwwgetzedcouk', 'wwwidewcom', 'wwwldewcom', 'wwwldewcom1win150ppmx3age16', 'wwwldewcom1win150ppmx3age16subscription', 'wwwldewcomsubs161win150ppmx3', 'wwwmovietriviatv', 'wwwmusictrivianet', 'wwworangecoukow', 'wwwphb1com', 'wwwregalportfoliocouk', 'wwwringtonekingcouk', 'wwwringtonescouk', 'wwwrtfsphostingcom', 'wwwsantacallingcom', 'wwwshortbreaksorguk', 'wwwsmsacubootydelious', 'wwwsmsacugoldviking', 'wwwsmsacuhmmross', 'wwwsmsacunat27081980', 'wwwsmsacunatalie2k9', 'wwwsmsconet', 'wwwtcbiz', 'wwwtelediscountcouk', 'wwwtextcompcom', 'wwwtextpodnet', 'wwwtklscom', 'wwwtxt2shopcom', 'wwwtxt43com', 'wwwtxt82228com', 'wwwtxttowincouk', 'wwwwin82050couk', 'wylie', 'x', 'x2', 'x29', 'x49', 'x49your', 'xafter', 'xam', 'xavier', 'xchat', 'xclusiveclubsaisai', 'xin', 'xins', 'xmas', 'xnet', 'xoxo', 'xt', 'xuhui', 'xx', 'xxsp', 'xxuk', 'xxx', 'xxxmobilemovieclub', 'xxxmobilemovieclubcomnqjkgighjjgcbl', 'xxxx', 'xxxxx', 'xxxxxx', 'xxxxxxx', 'xxxxxxxx', 'xxxxxxxxxxxxxx', 'xy', 'y87', 'ya', 'yagoing', 'yah', 'yahoo', 'yalrigu', 'yalru', 'yam', 'yan', 'yar', 'yard', 'yavnt', 'yaxx', 'yaxxx', 'yay', 'yck', 'yday', 'yeah', 'yeahand', 'year', 'yeesh', 'yeh', 'yelling', 'yellow', 'yelowi', 'yen', 'yeovil', 'yep', 'yer', 'yes', 'yes165', 'yes434', 'yes440', 'yes762', 'yes910', 'yesbut', 'yesfrom', 'yesgauti', 'yeshe', 'yeshere', 'yesim', 'yesmum', 'yessura', 'yest', 'yesterday', 'yet', 'yettys', 'yetunde', 'yi', 'yifeng', 'yijue', 'yijuehotmailcom', 'ym', 'ymca', 'yo', 'yoga', 'yogasana', 'yohere', 'yor', 'yorge', 'youany', 'youcarlos', 'youclean', 'youd', 'youdearwith', 'youdoing', 'youhow', 'youi', 'youkwhere', 'yould', 'youll', 'youmoney', 'youmy', 'young', 'younger', 'youphone', 'youre', 'yourinclusive', 'yourjob', 'youso', 'youthats', 'youto', 'youuuuu', 'youve', 'youwanna', 'youwhen', 'youâ', 'yoville', 'yowifes', 'yoyyooo', 'yr', 'ystrdayice', 'yummmm', 'yummy', 'yun', 'yunny', 'yuo', 'yuou', 'yup', 'yupz', 'ywhere', 'z', 'zac', 'zahers', 'zealand', 'zebra', 'zed', 'zero', 'zhong', 'zindgi', 'zoe', 'zogtorius', 'zoom', 'zouk', 'zyada', '¾ã', 'â', 'ã', 'ã¼', 'ã¼ll', 'ãœ', 'ãœll', 'œ', 'œharry']\n  (0, 4379)\t1\n  (0, 6881)\t1\n  (0, 6675)\t1\n  (0, 8689)\t1\n  (0, 7800)\t1\n  (0, 1783)\t1\n  (0, 6315)\t2\n  (0, 8680)\t1\n  (0, 7681)\t1\n  (0, 3919)\t1\n  (0, 3718)\t1\n  (0, 3504)\t1\n  (0, 8678)\t1\n  (0, 1660)\t1\n  (0, 7911)\t1\n  (1, 3437)\t1\n  (1, 3045)\t2\n  (1, 435)\t1\n  (1, 8657)\t1\n  (1, 2265)\t1\n  (1, 8618)\t1\n  (1, 3177)\t2\n  (1, 2474)\t1\n  (1, 3289)\t1\n  (1, 7935)\t1\n  :\t:\n  (5566, 3654)\t1\n  (5566, 8952)\t1\n  (5566, 3424)\t1\n  (5566, 3072)\t1\n  (5567, 5304)\t1\n  (5567, 7569)\t1\n  (5567, 6053)\t1\n  (5567, 7225)\t1\n  (5568, 3437)\t1\n  (5568, 4785)\t1\n  (5568, 8150)\t1\n  (5568, 8526)\t1\n  (5568, 5502)\t1\n  (5568, 7249)\t1\n  (5568, 2990)\t1\n  (5568, 3553)\t1\n  (5568, 1877)\t1\n  (5568, 3787)\t1\n  (5568, 4162)\t1\n  (5568, 4294)\t1\n  (5568, 1004)\t1\n  (5568, 1640)\t1\n  (5569, 5418)\t1\n  (5569, 8086)\t1\n  (5569, 6708)\t1\n(5570, 8958)\n"
    }
   ],
   "source": [
    "from sklearn.feature_extraction.text import CountVectorizer\n",
    "\n",
    "count_vect = CountVectorizer(analyzer=lemmatizing)\n",
    "X_counts = count_vect.fit_transform(fullCorpus['body_list_nostop'])\n",
    "print(count_vect.get_feature_names())\n",
    "print(X_counts)\n",
    "print(X_counts.shape)"
   ]
  },
  {
   "cell_type": "markdown",
   "metadata": {},
   "source": [
    "Separating Dependent and independent variable"
   ]
  },
  {
   "cell_type": "code",
   "execution_count": 223,
   "metadata": {},
   "outputs": [
    {
     "output_type": "stream",
     "name": "stdout",
     "text": "[[0 0 0 ... 0 0 0]\n [0 0 0 ... 0 0 0]\n [0 0 0 ... 0 0 0]\n ...\n [0 0 0 ... 0 0 0]\n [0 0 0 ... 0 0 0]\n [0 0 0 ... 0 0 0]]\n['ham' 'spam' 'ham' ... 'ham' 'ham' 'ham']\n"
    }
   ],
   "source": [
    "X = X_counts.toarray()\n",
    "y = fullCorpus.iloc[:,0].values\n",
    "print(X)\n",
    "print(y)"
   ]
  },
  {
   "cell_type": "markdown",
   "metadata": {},
   "source": [
    "Encoding the dependent vatiable"
   ]
  },
  {
   "cell_type": "code",
   "execution_count": 226,
   "metadata": {},
   "outputs": [
    {
     "output_type": "stream",
     "name": "stdout",
     "text": "[0 1 0 ... 0 0 0]\n"
    }
   ],
   "source": [
    "# To deal with categorizal data we had to convert it into numbers\n",
    "from sklearn.preprocessing import LabelEncoder\n",
    "Labelencoder_y = LabelEncoder()\n",
    "# converting first column into inteer values\n",
    "y = Labelencoder_y.fit_transform(y)\n",
    "print(y)"
   ]
  },
  {
   "cell_type": "markdown",
   "metadata": {},
   "source": [
    "Splitting the Dataset"
   ]
  },
  {
   "cell_type": "code",
   "execution_count": 240,
   "metadata": {},
   "outputs": [],
   "source": [
    "# Splitting the dataset into Training set and Testing set\n",
    "from sklearn.model_selection import train_test_split\n",
    "X_train, X_test, y_train, y_test = train_test_split(X, y, test_size = 0.13, random_state = 0)\n"
   ]
  },
  {
   "cell_type": "markdown",
   "metadata": {},
   "source": [
    "Using Naive Bayes Classifier"
   ]
  },
  {
   "cell_type": "code",
   "execution_count": 241,
   "metadata": {},
   "outputs": [
    {
     "output_type": "execute_result",
     "data": {
      "text/plain": "GaussianNB(priors=None, var_smoothing=1e-09)"
     },
     "metadata": {},
     "execution_count": 241
    }
   ],
   "source": [
    "# Fitting Naive Bayes to the Training set\n",
    "from sklearn.naive_bayes import GaussianNB\n",
    "classifier = GaussianNB()\n",
    "classifier.fit(X_train, y_train)"
   ]
  },
  {
   "cell_type": "markdown",
   "metadata": {},
   "source": [
    "Predicting Results\n"
   ]
  },
  {
   "cell_type": "code",
   "execution_count": 242,
   "metadata": {},
   "outputs": [],
   "source": [
    "# Predicting the Test set results\n",
    "y_pred = classifier.predict(X_test)"
   ]
  },
  {
   "cell_type": "markdown",
   "metadata": {},
   "source": [
    "Confusion Matrix"
   ]
  },
  {
   "cell_type": "code",
   "execution_count": 243,
   "metadata": {},
   "outputs": [
    {
     "output_type": "execute_result",
     "data": {
      "text/plain": "array([[551,  63],\n       [  8, 103]], dtype=int64)"
     },
     "metadata": {},
     "execution_count": 243
    }
   ],
   "source": [
    "# Making the Confusion Matrix\n",
    "from sklearn.metrics import confusion_matrix\n",
    "cm = confusion_matrix(y_test, y_pred)\n",
    "cm"
   ]
  },
  {
   "cell_type": "code",
   "execution_count": 245,
   "metadata": {},
   "outputs": [
    {
     "output_type": "execute_result",
     "data": {
      "text/plain": "0.9020689655172414"
     },
     "metadata": {},
     "execution_count": 245
    }
   ],
   "source": [
    "# Accuracy\n",
    "(551+103)/(551+103+63+8)"
   ]
  }
 ],
 "metadata": {
  "language_info": {
   "codemirror_mode": {
    "name": "ipython",
    "version": 3
   },
   "file_extension": ".py",
   "mimetype": "text/x-python",
   "name": "python",
   "nbconvert_exporter": "python",
   "pygments_lexer": "ipython3",
   "version": "3.7.5-final"
  },
  "orig_nbformat": 2,
  "kernelspec": {
   "name": "python37564bit3c778502bb2a4923bf1950720b6af5e7",
   "display_name": "Python 3.7.5 64-bit"
  }
 },
 "nbformat": 4,
 "nbformat_minor": 2
}